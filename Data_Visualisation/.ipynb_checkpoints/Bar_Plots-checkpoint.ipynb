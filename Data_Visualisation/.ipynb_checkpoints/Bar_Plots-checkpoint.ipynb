{
 "cells": [
  {
   "cell_type": "code",
   "execution_count": 4,
   "id": "b7c62364-f66e-4675-8854-9cde955a4bbe",
   "metadata": {},
   "outputs": [],
   "source": [
    "import numpy as np"
   ]
  },
  {
   "cell_type": "code",
   "execution_count": 16,
   "id": "6ad659f1-9571-4c75-8a43-8e0b74370e84",
   "metadata": {},
   "outputs": [],
   "source": [
    "y = np.random.randint(1, 100, 5)"
   ]
  },
  {
   "cell_type": "code",
   "execution_count": 18,
   "id": "ab07332d-0b33-447a-8704-122cc47ca8ad",
   "metadata": {},
   "outputs": [],
   "source": [
    "x = np.arange(5)"
   ]
  },
  {
   "cell_type": "code",
   "execution_count": 12,
   "id": "e64a5a1c-eb5e-4b51-927d-3900727e9a88",
   "metadata": {},
   "outputs": [],
   "source": [
    "import matplotlib.pyplot as plt"
   ]
  },
  {
   "cell_type": "code",
   "execution_count": 30,
   "id": "2c636466-449e-47eb-9e46-f2f13c393333",
   "metadata": {},
   "outputs": [
    {
     "data": {
      "image/png": "[encoded data removed]",
      "text/plain": [
       "<Figure size 500x600 with 1 Axes>"
      ]
     },
     "metadata": {},
     "output_type": "display_data"
    }
   ],
   "source": [
    "plt.figure(figsize = (5,6))\n",
    "plt.bar(x, y)\n",
    "for i in range(len(x)):\n",
    "    plt.text(x[i], y[i], str(y[i]))\n",
    "plt.xlabel('teriitory')\n",
    "plt.ylabel('milk production')\n",
    "plt.title('Territory wise milk production')\n",
    "plt.show()\n"
   ]
  },
  {
   "cell_type": "code",
   "execution_count": 34,
   "id": "0048f7a6-5dd9-4910-8477-bd987af0ff55",
   "metadata": {},
   "outputs": [
    {
     "data": {
      "text/plain": [
       "\u001b[0;31mSignature:\u001b[0m\n",
       "\u001b[0mplt\u001b[0m\u001b[0;34m.\u001b[0m\u001b[0mtext\u001b[0m\u001b[0;34m(\u001b[0m\u001b[0;34m\u001b[0m\n",
       "\u001b[0;34m\u001b[0m    \u001b[0mx\u001b[0m\u001b[0;34m:\u001b[0m \u001b[0;34m'float'\u001b[0m\u001b[0;34m,\u001b[0m\u001b[0;34m\u001b[0m\n",
       "\u001b[0;34m\u001b[0m    \u001b[0my\u001b[0m\u001b[0;34m:\u001b[0m \u001b[0;34m'float'\u001b[0m\u001b[0;34m,\u001b[0m\u001b[0;34m\u001b[0m\n",
       "\u001b[0;34m\u001b[0m    \u001b[0ms\u001b[0m\u001b[0;34m:\u001b[0m \u001b[0;34m'str'\u001b[0m\u001b[0;34m,\u001b[0m\u001b[0;34m\u001b[0m\n",
       "\u001b[0;34m\u001b[0m    \u001b[0mfontdict\u001b[0m\u001b[0;34m:\u001b[0m \u001b[0;34m'dict[str, Any] | None'\u001b[0m \u001b[0;34m=\u001b[0m \u001b[0;32mNone\u001b[0m\u001b[0;34m,\u001b[0m\u001b[0;34m\u001b[0m\n",
       "\u001b[0;34m\u001b[0m    \u001b[0;34m**\u001b[0m\u001b[0mkwargs\u001b[0m\u001b[0;34m,\u001b[0m\u001b[0;34m\u001b[0m\n",
       "\u001b[0;34m\u001b[0m\u001b[0;34m)\u001b[0m \u001b[0;34m->\u001b[0m \u001b[0;34m'Text'\u001b[0m\u001b[0;34m\u001b[0m\u001b[0;34m\u001b[0m\u001b[0m\n",
       "\u001b[0;31mDocstring:\u001b[0m\n",
       "Add text to the Axes.\n",
       "\n",
       "Add the text *s* to the Axes at location *x*, *y* in data coordinates,\n",
       "with a default ``horizontalalignment`` on the ``left`` and\n",
       "``verticalalignment`` at the ``baseline``. See\n",
       ":doc:`/gallery/text_labels_and_annotations/text_alignment`.\n",
       "\n",
       "Parameters\n",
       "----------\n",
       "x, y : float\n",
       "    The position to place the text. By default, this is in data\n",
       "    coordinates. The coordinate system can be changed using the\n",
       "    *transform* parameter.\n",
       "\n",
       "s : str\n",
       "    The text.\n",
       "\n",
       "fontdict : dict, default: None\n",
       "\n",
       "    .. admonition:: Discouraged\n",
       "\n",
       "       The use of *fontdict* is discouraged. Parameters should be passed as\n",
       "       individual keyword arguments or using dictionary-unpacking\n",
       "       ``text(..., **fontdict)``.\n",
       "\n",
       "    A dictionary to override the default text properties. If fontdict\n",
       "    is None, the defaults are determined by `.rcParams`.\n",
       "\n",
       "Returns\n",
       "-------\n",
       "`.Text`\n",
       "    The created `.Text` instance.\n",
       "\n",
       "Other Parameters\n",
       "----------------\n",
       "**kwargs : `~matplotlib.text.Text` properties.\n",
       "    Other miscellaneous text parameters.\n",
       "\n",
       "    Properties:\n",
       "    agg_filter: a filter function, which takes a (m, n, 3) float array and a dpi value, and returns a (m, n, 3) array and two offsets from the bottom left corner of the image\n",
       "    alpha: scalar or None\n",
       "    animated: bool\n",
       "    antialiased: bool\n",
       "    backgroundcolor: :mpltype:`color`\n",
       "    bbox: dict with properties for `.patches.FancyBboxPatch`\n",
       "    clip_box: unknown\n",
       "    clip_on: unknown\n",
       "    clip_path: unknown\n",
       "    color or c: :mpltype:`color`\n",
       "    figure: `~matplotlib.figure.Figure`\n",
       "    fontfamily or family or fontname: {FONTNAME, 'serif', 'sans-serif', 'cursive', 'fantasy', 'monospace'}\n",
       "    fontproperties or font or font_properties: `.font_manager.FontProperties` or `str` or `pathlib.Path`\n",
       "    fontsize or size: float or {'xx-small', 'x-small', 'small', 'medium', 'large', 'x-large', 'xx-large'}\n",
       "    fontstretch or stretch: {a numeric value in range 0-1000, 'ultra-condensed', 'extra-condensed', 'condensed', 'semi-condensed', 'normal', 'semi-expanded', 'expanded', 'extra-expanded', 'ultra-expanded'}\n",
       "    fontstyle or style: {'normal', 'italic', 'oblique'}\n",
       "    fontvariant or variant: {'normal', 'small-caps'}\n",
       "    fontweight or weight: {a numeric value in range 0-1000, 'ultralight', 'light', 'normal', 'regular', 'book', 'medium', 'roman', 'semibold', 'demibold', 'demi', 'bold', 'heavy', 'extra bold', 'black'}\n",
       "    gid: str\n",
       "    horizontalalignment or ha: {'left', 'center', 'right'}\n",
       "    in_layout: bool\n",
       "    label: object\n",
       "    linespacing: float (multiple of font size)\n",
       "    math_fontfamily: str\n",
       "    mouseover: bool\n",
       "    multialignment or ma: {'left', 'right', 'center'}\n",
       "    parse_math: bool\n",
       "    path_effects: list of `.AbstractPathEffect`\n",
       "    picker: None or bool or float or callable\n",
       "    position: (float, float)\n",
       "    rasterized: bool\n",
       "    rotation: float or {'vertical', 'horizontal'}\n",
       "    rotation_mode: {None, 'default', 'anchor'}\n",
       "    sketch_params: (scale: float, length: float, randomness: float)\n",
       "    snap: bool or None\n",
       "    text: object\n",
       "    transform: `~matplotlib.transforms.Transform`\n",
       "    transform_rotates_text: bool\n",
       "    url: str\n",
       "    usetex: bool, default: :rc:`text.usetex`\n",
       "    verticalalignment or va: {'baseline', 'bottom', 'center', 'center_baseline', 'top'}\n",
       "    visible: bool\n",
       "    wrap: bool\n",
       "    x: float\n",
       "    y: float\n",
       "    zorder: float\n",
       "\n",
       "Notes\n",
       "-----\n",
       "\n",
       ".. note::\n",
       "\n",
       "    This is the :ref:`pyplot wrapper <pyplot_interface>` for `.axes.Axes.text`.\n",
       "\n",
       "Examples\n",
       "--------\n",
       "Individual keyword arguments can be used to override any given\n",
       "parameter::\n",
       "\n",
       "    >>> text(x, y, s, fontsize=12)\n",
       "\n",
       "The default transform specifies that text is in data coords,\n",
       "alternatively, you can specify text in axis coords ((0, 0) is\n",
       "lower-left and (1, 1) is upper-right).  The example below places\n",
       "text in the center of the Axes::\n",
       "\n",
       "    >>> text(0.5, 0.5, 'matplotlib', horizontalalignment='center',\n",
       "    ...      verticalalignment='center', transform=ax.transAxes)\n",
       "\n",
       "You can put a rectangular box around the text instance (e.g., to\n",
       "set a background color) by using the keyword *bbox*.  *bbox* is\n",
       "a dictionary of `~matplotlib.patches.Rectangle`\n",
       "properties.  For example::\n",
       "\n",
       "    >>> text(x, y, s, bbox=dict(facecolor='red', alpha=0.5))\n",
       "\u001b[0;31mFile:\u001b[0m      /opt/anaconda3/lib/python3.12/site-packages/matplotlib/pyplot.py\n",
       "\u001b[0;31mType:\u001b[0m      function"
      ]
     },
     "metadata": {},
     "output_type": "display_data"
    }
   ],
   "source": [
    "plt.text?"
   ]
  },
  {
   "cell_type": "code",
   "execution_count": null,
   "id": "c5c34f16-ec49-4460-845a-9f754608305c",
   "metadata": {},
   "outputs": [],
   "source": []
  }
 ],
 "metadata": {
  "kernelspec": {
   "display_name": "Python [conda env:base] *",
   "language": "python",
   "name": "conda-base-py"
  },
  "language_info": {
   "codemirror_mode": {
    "name": "ipython",
    "version": 3
   },
   "file_extension": ".py",
   "mimetype": "text/x-python",
   "name": "python",
   "nbconvert_exporter": "python",
   "pygments_lexer": "ipython3",
   "version": "3.12.7"
  }
 },
 "nbformat": 4,
 "nbformat_minor": 5
}
