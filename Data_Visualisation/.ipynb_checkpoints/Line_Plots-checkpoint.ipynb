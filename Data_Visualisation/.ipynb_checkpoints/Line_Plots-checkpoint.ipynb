{
 "cells": [
  {
   "cell_type": "code",
   "execution_count": null,
   "id": "39cdc856-26b1-49ea-82f8-f6b9111979ab",
   "metadata": {},
   "outputs": [],
   "source": [
    "'''\n",
    "DATA SCIENCE PIPELINE\n",
    "-----------------------------------\n",
    "\n",
    "- Understand the problem statement\n",
    "- Acquire data and cleaning\n",
    "- Data Visualisation / Exploratory Analysis\n",
    "- Machine learning modelling\n",
    "- Share results/ interesting visualisation about findings\n",
    "\n",
    "'''"
   ]
  }
 ],
 "metadata": {
  "kernelspec": {
   "display_name": "Python [conda env:base] *",
   "language": "python",
   "name": "conda-base-py"
  },
  "language_info": {
   "codemirror_mode": {
    "name": "ipython",
    "version": 3
   },
   "file_extension": ".py",
   "mimetype": "text/x-python",
   "name": "python",
   "nbconvert_exporter": "python",
   "pygments_lexer": "ipython3",
   "version": "3.12.7"
  }
 },
 "nbformat": 4,
 "nbformat_minor": 5
}
