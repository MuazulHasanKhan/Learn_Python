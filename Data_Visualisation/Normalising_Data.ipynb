{
 "cells": [
  {
   "cell_type": "code",
   "execution_count": 2,
   "id": "b02346ca-1184-45a1-aa16-7348a4d4a2d5",
   "metadata": {},
   "outputs": [],
   "source": [
    "import pandas as pd\n",
    "import matplotlib.pyplot as plt\n",
    "import numpy as np"
   ]
  },
  {
   "cell_type": "code",
   "execution_count": null,
   "id": "169dcf1e-618e-4f0e-a0c5-e22ff2fad8bc",
   "metadata": {},
   "outputs": [],
   "source": [
    "dfx = pd.read_csv('../Datasets/linearX.csv')\n",
    "dfy = pd.read_csv('../Datasets/linearY.csv')\n",
    "\n",
    "x = dfx.values\n",
    "y = dfy.values\n",
    "\n",
    "x2 = (x-x.mean())/x.std()\n",
    "\n",
    "plt.scatter(x, y)\n",
    "plt.scatter(x2, y, color = 'orange')\n",
    "plt.show()"
   ]
  }
 ],
 "metadata": {
  "kernelspec": {
   "display_name": "Python [conda env:base] *",
   "language": "python",
   "name": "conda-base-py"
  },
  "language_info": {
   "codemirror_mode": {
    "name": "ipython",
    "version": 3
   },
   "file_extension": ".py",
   "mimetype": "text/x-python",
   "name": "python",
   "nbconvert_exporter": "python",
   "pygments_lexer": "ipython3",
   "version": "3.12.7"
  }
 },
 "nbformat": 4,
 "nbformat_minor": 5
}
