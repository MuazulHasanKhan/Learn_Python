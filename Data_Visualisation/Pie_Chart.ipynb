{
 "cells": [
  {
   "cell_type": "code",
   "execution_count": 2,
   "id": "763a60f2-1805-46db-85ff-20706e9ff907",
   "metadata": {},
   "outputs": [],
   "source": [
    "import numpy as np\n",
    "import matplotlib.pyplot as plt"
   ]
  },
  {
   "cell_type": "code",
   "execution_count": 6,
   "id": "0c278a45-9595-4f5f-82a2-2c7cf2e36a9e",
   "metadata": {},
   "outputs": [],
   "source": [
    "x = ['a', 'b', 'c', 'd', 'e']\n",
    "y = [10, 10, 30, 28, 22]\n",
    "\n"
   ]
  },
  {
   "cell_type": "code",
   "execution_count": 26,
   "id": "5e46e38e-7742-4840-8fa6-95e260d91eb9",
   "metadata": {},
   "outputs": [
    {
     "data": {
      "image/png": "[encoded data removed]",
      "text/plain": [
       "<Figure size 640x480 with 1 Axes>"
      ]
     },
     "metadata": {},
     "output_type": "display_data"
    }
   ],
   "source": [
    "plt.pie(y, labels = x, explode = (0, 0, 0.1,  0, 0), autob)\n",
    "plt.show()"
   ]
  },
  {
   "cell_type": "code",
   "execution_count": 14,
   "id": "69dd4b4a-fc8b-47d5-a09d-5b13ddf0f155",
   "metadata": {},
   "outputs": [
    {
     "data": {
      "text/plain": [
       "\u001b[0;31mSignature:\u001b[0m\n",
       "\u001b[0mplt\u001b[0m\u001b[0;34m.\u001b[0m\u001b[0mpie\u001b[0m\u001b[0;34m(\u001b[0m\u001b[0;34m\u001b[0m\n",
       "\u001b[0;34m\u001b[0m    \u001b[0mx\u001b[0m\u001b[0;34m:\u001b[0m \u001b[0;34m'ArrayLike'\u001b[0m\u001b[0;34m,\u001b[0m\u001b[0;34m\u001b[0m\n",
       "\u001b[0;34m\u001b[0m    \u001b[0mexplode\u001b[0m\u001b[0;34m:\u001b[0m \u001b[0;34m'ArrayLike | None'\u001b[0m \u001b[0;34m=\u001b[0m \u001b[0;32mNone\u001b[0m\u001b[0;34m,\u001b[0m\u001b[0;34m\u001b[0m\n",
       "\u001b[0;34m\u001b[0m    \u001b[0mlabels\u001b[0m\u001b[0;34m:\u001b[0m \u001b[0;34m'Sequence[str] | None'\u001b[0m \u001b[0;34m=\u001b[0m \u001b[0;32mNone\u001b[0m\u001b[0;34m,\u001b[0m\u001b[0;34m\u001b[0m\n",
       "\u001b[0;34m\u001b[0m    \u001b[0mcolors\u001b[0m\u001b[0;34m:\u001b[0m \u001b[0;34m'ColorType | Sequence[ColorType] | None'\u001b[0m \u001b[0;34m=\u001b[0m \u001b[0;32mNone\u001b[0m\u001b[0;34m,\u001b[0m\u001b[0;34m\u001b[0m\n",
       "\u001b[0;34m\u001b[0m    \u001b[0mautopct\u001b[0m\u001b[0;34m:\u001b[0m \u001b[0;34m'str | Callable[[float], str] | None'\u001b[0m \u001b[0;34m=\u001b[0m \u001b[0;32mNone\u001b[0m\u001b[0;34m,\u001b[0m\u001b[0;34m\u001b[0m\n",
       "\u001b[0;34m\u001b[0m    \u001b[0mpctdistance\u001b[0m\u001b[0;34m:\u001b[0m \u001b[0;34m'float'\u001b[0m \u001b[0;34m=\u001b[0m \u001b[0;36m0.6\u001b[0m\u001b[0;34m,\u001b[0m\u001b[0;34m\u001b[0m\n",
       "\u001b[0;34m\u001b[0m    \u001b[0mshadow\u001b[0m\u001b[0;34m:\u001b[0m \u001b[0;34m'bool'\u001b[0m \u001b[0;34m=\u001b[0m \u001b[0;32mFalse\u001b[0m\u001b[0;34m,\u001b[0m\u001b[0;34m\u001b[0m\n",
       "\u001b[0;34m\u001b[0m    \u001b[0mlabeldistance\u001b[0m\u001b[0;34m:\u001b[0m \u001b[0;34m'float | None'\u001b[0m \u001b[0;34m=\u001b[0m \u001b[0;36m1.1\u001b[0m\u001b[0;34m,\u001b[0m\u001b[0;34m\u001b[0m\n",
       "\u001b[0;34m\u001b[0m    \u001b[0mstartangle\u001b[0m\u001b[0;34m:\u001b[0m \u001b[0;34m'float'\u001b[0m \u001b[0;34m=\u001b[0m \u001b[0;36m0\u001b[0m\u001b[0;34m,\u001b[0m\u001b[0;34m\u001b[0m\n",
       "\u001b[0;34m\u001b[0m    \u001b[0mradius\u001b[0m\u001b[0;34m:\u001b[0m \u001b[0;34m'float'\u001b[0m \u001b[0;34m=\u001b[0m \u001b[0;36m1\u001b[0m\u001b[0;34m,\u001b[0m\u001b[0;34m\u001b[0m\n",
       "\u001b[0;34m\u001b[0m    \u001b[0mcounterclock\u001b[0m\u001b[0;34m:\u001b[0m \u001b[0;34m'bool'\u001b[0m \u001b[0;34m=\u001b[0m \u001b[0;32mTrue\u001b[0m\u001b[0;34m,\u001b[0m\u001b[0;34m\u001b[0m\n",
       "\u001b[0;34m\u001b[0m    \u001b[0mwedgeprops\u001b[0m\u001b[0;34m:\u001b[0m \u001b[0;34m'dict[str, Any] | None'\u001b[0m \u001b[0;34m=\u001b[0m \u001b[0;32mNone\u001b[0m\u001b[0;34m,\u001b[0m\u001b[0;34m\u001b[0m\n",
       "\u001b[0;34m\u001b[0m    \u001b[0mtextprops\u001b[0m\u001b[0;34m:\u001b[0m \u001b[0;34m'dict[str, Any] | None'\u001b[0m \u001b[0;34m=\u001b[0m \u001b[0;32mNone\u001b[0m\u001b[0;34m,\u001b[0m\u001b[0;34m\u001b[0m\n",
       "\u001b[0;34m\u001b[0m    \u001b[0mcenter\u001b[0m\u001b[0;34m:\u001b[0m \u001b[0;34m'tuple[float, float]'\u001b[0m \u001b[0;34m=\u001b[0m \u001b[0;34m(\u001b[0m\u001b[0;36m0\u001b[0m\u001b[0;34m,\u001b[0m \u001b[0;36m0\u001b[0m\u001b[0;34m)\u001b[0m\u001b[0;34m,\u001b[0m\u001b[0;34m\u001b[0m\n",
       "\u001b[0;34m\u001b[0m    \u001b[0mframe\u001b[0m\u001b[0;34m:\u001b[0m \u001b[0;34m'bool'\u001b[0m \u001b[0;34m=\u001b[0m \u001b[0;32mFalse\u001b[0m\u001b[0;34m,\u001b[0m\u001b[0;34m\u001b[0m\n",
       "\u001b[0;34m\u001b[0m    \u001b[0mrotatelabels\u001b[0m\u001b[0;34m:\u001b[0m \u001b[0;34m'bool'\u001b[0m \u001b[0;34m=\u001b[0m \u001b[0;32mFalse\u001b[0m\u001b[0;34m,\u001b[0m\u001b[0;34m\u001b[0m\n",
       "\u001b[0;34m\u001b[0m    \u001b[0;34m*\u001b[0m\u001b[0;34m,\u001b[0m\u001b[0;34m\u001b[0m\n",
       "\u001b[0;34m\u001b[0m    \u001b[0mnormalize\u001b[0m\u001b[0;34m:\u001b[0m \u001b[0;34m'bool'\u001b[0m \u001b[0;34m=\u001b[0m \u001b[0;32mTrue\u001b[0m\u001b[0;34m,\u001b[0m\u001b[0;34m\u001b[0m\n",
       "\u001b[0;34m\u001b[0m    \u001b[0mhatch\u001b[0m\u001b[0;34m:\u001b[0m \u001b[0;34m'str | Sequence[str] | None'\u001b[0m \u001b[0;34m=\u001b[0m \u001b[0;32mNone\u001b[0m\u001b[0;34m,\u001b[0m\u001b[0;34m\u001b[0m\n",
       "\u001b[0;34m\u001b[0m    \u001b[0mdata\u001b[0m\u001b[0;34m=\u001b[0m\u001b[0;32mNone\u001b[0m\u001b[0;34m,\u001b[0m\u001b[0;34m\u001b[0m\n",
       "\u001b[0;34m\u001b[0m\u001b[0;34m)\u001b[0m \u001b[0;34m->\u001b[0m \u001b[0;34m'tuple[list[Wedge], list[Text]] | tuple[list[Wedge], list[Text], list[Text]]'\u001b[0m\u001b[0;34m\u001b[0m\u001b[0;34m\u001b[0m\u001b[0m\n",
       "\u001b[0;31mDocstring:\u001b[0m\n",
       "Plot a pie chart.\n",
       "\n",
       "Make a pie chart of array *x*.  The fractional area of each wedge is\n",
       "given by ``x/sum(x)``.\n",
       "\n",
       "The wedges are plotted counterclockwise, by default starting from the\n",
       "x-axis.\n",
       "\n",
       "Parameters\n",
       "----------\n",
       "x : 1D array-like\n",
       "    The wedge sizes.\n",
       "\n",
       "explode : array-like, default: None\n",
       "    If not *None*, is a ``len(x)`` array which specifies the fraction\n",
       "    of the radius with which to offset each wedge.\n",
       "\n",
       "labels : list, default: None\n",
       "    A sequence of strings providing the labels for each wedge\n",
       "\n",
       "colors : :mpltype:`color` or list of :mpltype:`color`, default: None\n",
       "    A sequence of colors through which the pie chart will cycle.  If\n",
       "    *None*, will use the colors in the currently active cycle.\n",
       "\n",
       "hatch : str or list, default: None\n",
       "    Hatching pattern applied to all pie wedges or sequence of patterns\n",
       "    through which the chart will cycle. For a list of valid patterns,\n",
       "    see :doc:`/gallery/shapes_and_collections/hatch_style_reference`.\n",
       "\n",
       "    .. versionadded:: 3.7\n",
       "\n",
       "autopct : None or str or callable, default: None\n",
       "    If not *None*, *autopct* is a string or function used to label the\n",
       "    wedges with their numeric value. The label will be placed inside\n",
       "    the wedge. If *autopct* is a format string, the label will be\n",
       "    ``fmt % pct``. If *autopct* is a function, then it will be called.\n",
       "\n",
       "pctdistance : float, default: 0.6\n",
       "    The relative distance along the radius at which the text\n",
       "    generated by *autopct* is drawn. To draw the text outside the pie,\n",
       "    set *pctdistance* > 1. This parameter is ignored if *autopct* is\n",
       "    ``None``.\n",
       "\n",
       "labeldistance : float or None, default: 1.1\n",
       "    The relative distance along the radius at which the labels are\n",
       "    drawn. To draw the labels inside the pie, set  *labeldistance* < 1.\n",
       "    If set to ``None``, labels are not drawn but are still stored for\n",
       "    use in `.legend`.\n",
       "\n",
       "shadow : bool or dict, default: False\n",
       "    If bool, whether to draw a shadow beneath the pie. If dict, draw a shadow\n",
       "    passing the properties in the dict to `.Shadow`.\n",
       "\n",
       "    .. versionadded:: 3.8\n",
       "        *shadow* can be a dict.\n",
       "\n",
       "startangle : float, default: 0 degrees\n",
       "    The angle by which the start of the pie is rotated,\n",
       "    counterclockwise from the x-axis.\n",
       "\n",
       "radius : float, default: 1\n",
       "    The radius of the pie.\n",
       "\n",
       "counterclock : bool, default: True\n",
       "    Specify fractions direction, clockwise or counterclockwise.\n",
       "\n",
       "wedgeprops : dict, default: None\n",
       "    Dict of arguments passed to each `.patches.Wedge` of the pie.\n",
       "    For example, ``wedgeprops = {'linewidth': 3}`` sets the width of\n",
       "    the wedge border lines equal to 3. By default, ``clip_on=False``.\n",
       "    When there is a conflict between these properties and other\n",
       "    keywords, properties passed to *wedgeprops* take precedence.\n",
       "\n",
       "textprops : dict, default: None\n",
       "    Dict of arguments to pass to the text objects.\n",
       "\n",
       "center : (float, float), default: (0, 0)\n",
       "    The coordinates of the center of the chart.\n",
       "\n",
       "frame : bool, default: False\n",
       "    Plot Axes frame with the chart if true.\n",
       "\n",
       "rotatelabels : bool, default: False\n",
       "    Rotate each label to the angle of the corresponding slice if true.\n",
       "\n",
       "normalize : bool, default: True\n",
       "    When *True*, always make a full pie by normalizing x so that\n",
       "    ``sum(x) == 1``. *False* makes a partial pie if ``sum(x) <= 1``\n",
       "    and raises a `ValueError` for ``sum(x) > 1``.\n",
       "\n",
       "data : indexable object, optional\n",
       "    If given, the following parameters also accept a string ``s``, which is\n",
       "    interpreted as ``data[s]`` (unless this raises an exception):\n",
       "\n",
       "    *x*, *explode*, *labels*, *colors*\n",
       "\n",
       "Returns\n",
       "-------\n",
       "patches : list\n",
       "    A sequence of `matplotlib.patches.Wedge` instances\n",
       "\n",
       "texts : list\n",
       "    A list of the label `.Text` instances.\n",
       "\n",
       "autotexts : list\n",
       "    A list of `.Text` instances for the numeric labels. This will only\n",
       "    be returned if the parameter *autopct* is not *None*.\n",
       "\n",
       "Notes\n",
       "-----\n",
       "\n",
       ".. note::\n",
       "\n",
       "    This is the :ref:`pyplot wrapper <pyplot_interface>` for `.axes.Axes.pie`.\n",
       "\n",
       "The pie chart will probably look best if the figure and Axes are\n",
       "square, or the Axes aspect is equal.\n",
       "This method sets the aspect ratio of the axis to \"equal\".\n",
       "The Axes aspect ratio can be controlled with `.Axes.set_aspect`.\n",
       "\u001b[0;31mFile:\u001b[0m      /opt/anaconda3/lib/python3.12/site-packages/matplotlib/pyplot.py\n",
       "\u001b[0;31mType:\u001b[0m      function"
      ]
     },
     "metadata": {},
     "output_type": "display_data"
    }
   ],
   "source": [
    "plt.pie?"
   ]
  },
  {
   "cell_type": "code",
   "execution_count": 20,
   "id": "c512d82b-0201-4aa3-bad7-d40145f001a8",
   "metadata": {},
   "outputs": [
    {
     "name": "stdout",
     "output_type": "stream",
     "text": [
      "\u001b[31mERROR: Could not find a version that satisfies the requirement opencv (from versions: none)\u001b[0m\u001b[31m\n",
      "\u001b[0m\u001b[31mERROR: No matching distribution found for opencv\u001b[0m\u001b[31m\n",
      "\u001b[0m"
     ]
    }
   ],
   "source": [
    "!pip install opencv"
   ]
  },
  {
   "cell_type": "code",
   "execution_count": null,
   "id": "4095ca9c-312d-4a33-81bb-3be9abb6d617",
   "metadata": {},
   "outputs": [],
   "source": []
  }
 ],
 "metadata": {
  "kernelspec": {
   "display_name": "Python [conda env:base] *",
   "language": "python",
   "name": "conda-base-py"
  },
  "language_info": {
   "codemirror_mode": {
    "name": "ipython",
    "version": 3
   },
   "file_extension": ".py",
   "mimetype": "text/x-python",
   "name": "python",
   "nbconvert_exporter": "python",
   "pygments_lexer": "ipython3",
   "version": "3.12.7"
  }
 },
 "nbformat": 4,
 "nbformat_minor": 5
}
