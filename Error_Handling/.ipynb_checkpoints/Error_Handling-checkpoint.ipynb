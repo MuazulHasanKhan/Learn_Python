{
 "cells": [
  {
   "cell_type": "code",
   "execution_count": null,
   "id": "4217d359-8921-4c62-9de2-2b303befa71c",
   "metadata": {},
   "outputs": [],
   "source": [
    "'''\n",
    "Exceptions: Errors detected during execution are called exceptions and are not uncondit-\n",
    "ionally fatal.\n",
    "'''"
   ]
  },
  {
   "cell_type": "code",
   "execution_count": 2,
   "id": "74134acb-5d71-4b6b-893c-f4e51de8fe1c",
   "metadata": {},
   "outputs": [
    {
     "ename": "SyntaxError",
     "evalue": "invalid syntax (1638958643.py, line 1)",
     "output_type": "error",
     "traceback": [
      "\u001b[0;36m  Cell \u001b[0;32mIn[2], line 1\u001b[0;36m\u001b[0m\n\u001b[0;31m    fore i in range(10):\u001b[0m\n\u001b[0m         ^\u001b[0m\n\u001b[0;31mSyntaxError\u001b[0m\u001b[0;31m:\u001b[0m invalid syntax\n"
     ]
    }
   ],
   "source": [
    "fore i in range(10): #This is error"
   ]
  },
  {
   "cell_type": "code",
   "execution_count": 4,
   "id": "78291fb4-0d56-4da1-9e11-cfd38263775a",
   "metadata": {},
   "outputs": [
    {
     "name": "stdout",
     "output_type": "stream",
     "text": [
      "Hello\n"
     ]
    },
    {
     "ename": "ZeroDivisionError",
     "evalue": "division by zero",
     "output_type": "error",
     "traceback": [
      "\u001b[0;31m---------------------------------------------------------------------------\u001b[0m",
      "\u001b[0;31mZeroDivisionError\u001b[0m                         Traceback (most recent call last)",
      "Cell \u001b[0;32mIn[4], line 2\u001b[0m\n\u001b[1;32m      1\u001b[0m \u001b[38;5;28mprint\u001b[39m(\u001b[38;5;124m\"\u001b[39m\u001b[38;5;124mHello\u001b[39m\u001b[38;5;124m\"\u001b[39m)\n\u001b[0;32m----> 2\u001b[0m \u001b[38;5;28mprint\u001b[39m(\u001b[38;5;241m10\u001b[39m\u001b[38;5;241m/\u001b[39m\u001b[38;5;241m0\u001b[39m) \u001b[38;5;66;03m#Syntactically correct but this is an exceptpn\u001b[39;00m\n\u001b[1;32m      3\u001b[0m \u001b[38;5;28mprint\u001b[39m(worlds)\n",
      "\u001b[0;31mZeroDivisionError\u001b[0m: division by zero"
     ]
    }
   ],
   "source": [
    "print(\"Hello\")\n",
    "print(10/0) #Syntactically correct but this is an exceptpn\n",
    "print(worlds)"
   ]
  },
  {
   "cell_type": "code",
   "execution_count": 6,
   "id": "2217c29c-9c59-4429-b9bc-3dd76d1e0d0f",
   "metadata": {},
   "outputs": [],
   "source": [
    "def div(a,b):\n",
    "    print(a/b)"
   ]
  },
  {
   "cell_type": "code",
   "execution_count": 8,
   "id": "3d2bbe35-5563-4e9d-b5bb-660c46187e2c",
   "metadata": {},
   "outputs": [
    {
     "ename": "ZeroDivisionError",
     "evalue": "division by zero",
     "output_type": "error",
     "traceback": [
      "\u001b[0;31m---------------------------------------------------------------------------\u001b[0m",
      "\u001b[0;31mZeroDivisionError\u001b[0m                         Traceback (most recent call last)",
      "Cell \u001b[0;32mIn[8], line 1\u001b[0m\n\u001b[0;32m----> 1\u001b[0m div(\u001b[38;5;241m10\u001b[39m\u001b[38;5;241m/\u001b[39m\u001b[38;5;241m0\u001b[39m)\n",
      "\u001b[0;31mZeroDivisionError\u001b[0m: division by zero"
     ]
    }
   ],
   "source": [
    "div(10/0)"
   ]
  },
  {
   "cell_type": "code",
   "execution_count": 28,
   "id": "9978812e-a783-43aa-8101-d803e1a7beef",
   "metadata": {},
   "outputs": [],
   "source": [
    " def diva(a,b):\n",
    "     try:\n",
    "         print(a/b)\n",
    "     except:\n",
    "         print('0s not allowed babes')"
   ]
  },
  {
   "cell_type": "code",
   "execution_count": 30,
   "id": "0d350bac-5501-4d53-a8c6-a33a015ba57c",
   "metadata": {},
   "outputs": [
    {
     "name": "stdout",
     "output_type": "stream",
     "text": [
      "0s not allowed babes\n"
     ]
    }
   ],
   "source": [
    "diva(10,0)"
   ]
  },
  {
   "cell_type": "code",
   "execution_count": 32,
   "id": "4e835f28-2f8c-4ad6-9e2f-882df95c19a7",
   "metadata": {},
   "outputs": [],
   "source": [
    "# Exception classes in Python"
   ]
  },
  {
   "cell_type": "code",
   "execution_count": 38,
   "id": "0078943b-33e3-4fea-8409-2af4f602b8a1",
   "metadata": {},
   "outputs": [
    {
     "ename": "ValueError",
     "evalue": "invalid literal for int() with base 10: 'Jatin'",
     "output_type": "error",
     "traceback": [
      "\u001b[0;31m---------------------------------------------------------------------------\u001b[0m",
      "\u001b[0;31mValueError\u001b[0m                                Traceback (most recent call last)",
      "Cell \u001b[0;32mIn[38], line 2\u001b[0m\n\u001b[1;32m      1\u001b[0m \u001b[38;5;28;01mtry\u001b[39;00m:\n\u001b[0;32m----> 2\u001b[0m     a \u001b[38;5;241m=\u001b[39m \u001b[38;5;28mint\u001b[39m(\u001b[38;5;124m'\u001b[39m\u001b[38;5;124mJatin\u001b[39m\u001b[38;5;124m'\u001b[39m)\n\u001b[1;32m      3\u001b[0m \u001b[38;5;28;01mexcept\u001b[39;00m \u001b[38;5;167;01mZeroDivisionError\u001b[39;00m:\n\u001b[1;32m      4\u001b[0m     \u001b[38;5;28mprint\u001b[39m(\u001b[38;5;124m'\u001b[39m\u001b[38;5;124myou were trying to divide by zero\u001b[39m\u001b[38;5;124m'\u001b[39m)\n",
      "\u001b[0;31mValueError\u001b[0m: invalid literal for int() with base 10: 'Jatin'"
     ]
    }
   ],
   "source": [
    "try:\n",
    "    a = int('Jatin')\n",
    "except ZeroDivisionError:\n",
    "    print('you were trying to divide by zero')\n"
   ]
  },
  {
   "cell_type": "code",
   "execution_count": 42,
   "id": "1e58e318-7af4-42c1-9c1d-7b13ccee535e",
   "metadata": {},
   "outputs": [
    {
     "name": "stdout",
     "output_type": "stream",
     "text": [
      "Its a value error\n"
     ]
    }
   ],
   "source": [
    "try:\n",
    "    a = int('Jatin')\n",
    "except ZeroDivisionError:\n",
    "    print('you were trying to divide by zero')\n",
    "except ValueError:\n",
    "    print('Its a value error')\n",
    "    "
   ]
  },
  {
   "cell_type": "code",
   "execution_count": 48,
   "id": "5cb8c29b-f64a-427a-b08a-12364baa1441",
   "metadata": {},
   "outputs": [
    {
     "name": "stdout",
     "output_type": "stream",
     "text": [
      "division by zero\n"
     ]
    }
   ],
   "source": [
    "try:\n",
    "    print(10/0)\n",
    "except Exception as e:\n",
    "    print(e)"
   ]
  },
  {
   "cell_type": "code",
   "execution_count": 50,
   "id": "0fc05775-be5d-4016-a4c2-15b509132d24",
   "metadata": {},
   "outputs": [],
   "source": [
    "# What if we want to raise some custom exceptions\n",
    "\n"
   ]
  },
  {
   "cell_type": "code",
   "execution_count": 62,
   "id": "7989c4c2-4ea7-4602-824a-4d85db42d24b",
   "metadata": {},
   "outputs": [
    {
     "name": "stdout",
     "output_type": "stream",
     "text": [
      "('My custom error', 1, 2)\n"
     ]
    }
   ],
   "source": [
    "try:\n",
    "    raise Exception('My custom error', 1, 2)\n",
    "except Exception as e:\n",
    "    print(e.args)"
   ]
  },
  {
   "cell_type": "code",
   "execution_count": 68,
   "id": "d2406fbf-3680-44e5-8457-cf05b5d3f11c",
   "metadata": {},
   "outputs": [],
   "source": [
    "class MyException():\n",
    "    def __init__(self, message):\n",
    "        self.message = message\n",
    "\n",
    "    def __str__(self):\n",
    "        return self.message"
   ]
  },
  {
   "cell_type": "code",
   "execution_count": 78,
   "id": "ff406ef0-58b2-4d16-858c-7730bbc256de",
   "metadata": {},
   "outputs": [
    {
     "name": "stdout",
     "output_type": "stream",
     "text": [
      "exceptions must derive from BaseException\n"
     ]
    }
   ],
   "source": [
    "try:\n",
    "    raise MyException(\"Some Error\")\n",
    "except Exception as e:\n",
    "    print(e)"
   ]
  },
  {
   "cell_type": "code",
   "execution_count": null,
   "id": "be7cda87-201e-4ccd-aa17-d99b8f7d8cf2",
   "metadata": {},
   "outputs": [],
   "source": [
    "# All Exceptions must derive from base exception"
   ]
  },
  {
   "cell_type": "code",
   "execution_count": 84,
   "id": "67a083f0-271e-4bfa-bc24-9caf3575ded9",
   "metadata": {},
   "outputs": [],
   "source": [
    "class MyException(Exception):\n",
    "    def __init__(self, message):\n",
    "        self.message = message\n",
    "    def __str_(self):\n",
    "        return self.message"
   ]
  },
  {
   "cell_type": "code",
   "execution_count": 86,
   "id": "bebc6054-1a4b-40f7-84cd-4a77cd7fa884",
   "metadata": {},
   "outputs": [
    {
     "name": "stdout",
     "output_type": "stream",
     "text": [
      "some error\n"
     ]
    }
   ],
   "source": [
    "try:\n",
    "    raise MyException(\"some error\")\n",
    "except Exception as e:\n",
    "    print(e.message)"
   ]
  },
  {
   "cell_type": "code",
   "execution_count": 95,
   "id": "8df0cff7-c831-488f-97ff-df1ef69ea889",
   "metadata": {},
   "outputs": [
    {
     "data": {
      "text/plain": [
       "'\\nelse: gets executed if thetry block didnt throw any error\\nfinally: will always execute\\n'"
      ]
     },
     "execution_count": 95,
     "metadata": {},
     "output_type": "execute_result"
    }
   ],
   "source": [
    "'''\n",
    "else: gets executed if thetry block didnt throw any error\n",
    "finally: will always execute\n",
    "'''"
   ]
  },
  {
   "cell_type": "code",
   "execution_count": 97,
   "id": "35fe14dc-6576-444a-a090-53049803c9f5",
   "metadata": {},
   "outputs": [
    {
     "name": "stdout",
     "output_type": "stream",
     "text": [
      "For you a thousand time over\n",
      "woah\n",
      "bye bye world\n"
     ]
    }
   ],
   "source": [
    "try:\n",
    "    print(\"For you a thousand time over\")\n",
    "except:\n",
    "    print(\"ok\")\n",
    "else: #used when theres no exception\n",
    "    print(\"woah\")\n",
    "finally:\n",
    "    # cleanup code (example closin a file, flushing the buffr)\n",
    "    print(\"bye bye world\")"
   ]
  },
  {
   "cell_type": "code",
   "execution_count": 107,
   "id": "221e3846-cd94-42d4-a804-e3a7704fba70",
   "metadata": {},
   "outputs": [],
   "source": [
    "def func():\n",
    "    try:\n",
    "        return 1 #return statement of try block would be trunctated because \n",
    "        #anyhow the finally block would be executed\n",
    "    except:\n",
    "        return 2\n",
    "    else:\n",
    "        return 3\n",
    "    finally:\n",
    "        return 2"
   ]
  },
  {
   "cell_type": "code",
   "execution_count": 109,
   "id": "7c25b339-d6a4-4d81-9ffa-9391b1732842",
   "metadata": {},
   "outputs": [
    {
     "data": {
      "text/plain": [
       "2"
      ]
     },
     "execution_count": 109,
     "metadata": {},
     "output_type": "execute_result"
    }
   ],
   "source": [
    "func()"
   ]
  },
  {
   "cell_type": "code",
   "execution_count": 111,
   "id": "fe3ab541-dd12-4c44-9f49-971d5c257cb3",
   "metadata": {},
   "outputs": [],
   "source": [
    "#with statement is used when we have predefined cleanup  action"
   ]
  },
  {
   "cell_type": "code",
   "execution_count": 119,
   "id": "554cfd9a-f8f3-4404-af5d-4e7373c964db",
   "metadata": {},
   "outputs": [
    {
     "name": "stdout",
     "output_type": "stream",
     "text": [
      "[Errno 2] No such file or directory: 'happy_happy.txt'\n"
     ]
    }
   ],
   "source": [
    "try:\n",
    "    file = open('happy_happy.txt', 'r')\n",
    "    print(file.read())\n",
    "except Exception as e:\n",
    "    print(e)"
   ]
  },
  {
   "cell_type": "code",
   "execution_count": 125,
   "id": "bc3ccef4-16a8-4913-b7eb-3c1c8fd00258",
   "metadata": {},
   "outputs": [
    {
     "name": "stdout",
     "output_type": "stream",
     "text": [
      "I am happy :)\n"
     ]
    }
   ],
   "source": [
    "try:\n",
    "    file = open('happy_happy.txt', 'r')\n",
    "    print(file.read())\n",
    "except Exception as e:\n",
    "    print(e)\n",
    "finally:\n",
    "    file.close()"
   ]
  },
  {
   "cell_type": "code",
   "execution_count": 131,
   "id": "a270822a-8ab6-4b24-8604-b2ad91314fe1",
   "metadata": {},
   "outputs": [
    {
     "name": "stdout",
     "output_type": "stream",
     "text": [
      "I am happy :)\n"
     ]
    }
   ],
   "source": [
    "# with function handles these already known clean ups\n",
    "with open('happy_happy.txt', 'r') as file:\n",
    "    print(file.read())"
   ]
  },
  {
   "cell_type": "code",
   "execution_count": 133,
   "id": "59647a6e-4d2a-4fef-83a5-9b3d1ca86030",
   "metadata": {},
   "outputs": [],
   "source": [
    "# to make class object compatible with 'with statement' we need to define '__enter__' and '__exit__'\n",
    "# with block starts  with '__enter__' function\n",
    "# exits with '__exit__' block"
   ]
  },
  {
   "cell_type": "code",
   "execution_count": 139,
   "id": "632fd595-9a9b-474b-998d-bd2ffb6cae59",
   "metadata": {},
   "outputs": [],
   "source": [
    " class A:\n",
    "     def __init__(self, n):\n",
    "         self.n = n\n",
    "     def __str__(self):\n",
    "         return str(self.n)\n",
    "     def __enter__(self):\n",
    "         return self\n",
    "     def __exit__(self, *args):\n",
    "         print(args)"
   ]
  },
  {
   "cell_type": "code",
   "execution_count": 144,
   "id": "70ae9e35-79d9-43fd-9f07-4ceaacb1776b",
   "metadata": {},
   "outputs": [
    {
     "name": "stdout",
     "output_type": "stream",
     "text": [
      "5\n",
      "(<class 'ZeroDivisionError'>, ZeroDivisionError('division by zero'), <traceback object at 0x12b5c1bc0>)\n"
     ]
    },
    {
     "ename": "ZeroDivisionError",
     "evalue": "division by zero",
     "output_type": "error",
     "traceback": [
      "\u001b[0;31m---------------------------------------------------------------------------\u001b[0m",
      "\u001b[0;31mZeroDivisionError\u001b[0m                         Traceback (most recent call last)",
      "Cell \u001b[0;32mIn[144], line 3\u001b[0m\n\u001b[1;32m      1\u001b[0m \u001b[38;5;28;01mwith\u001b[39;00m A(\u001b[38;5;241m5\u001b[39m) \u001b[38;5;28;01mas\u001b[39;00m a:\n\u001b[1;32m      2\u001b[0m     \u001b[38;5;28mprint\u001b[39m(a)\n\u001b[0;32m----> 3\u001b[0m     \u001b[38;5;28mprint\u001b[39m(\u001b[38;5;241m10\u001b[39m\u001b[38;5;241m/\u001b[39m\u001b[38;5;241m0\u001b[39m)\n",
      "\u001b[0;31mZeroDivisionError\u001b[0m: division by zero"
     ]
    }
   ],
   "source": [
    "with A(5) as a:\n",
    "    print(a)\n",
    "    print(10/0)"
   ]
  },
  {
   "cell_type": "code",
   "execution_count": 148,
   "id": "0f2a1c67-dc4b-4680-a7c6-6cb66439e859",
   "metadata": {},
   "outputs": [],
   "source": [
    "class A:\n",
    "    def __init__(self, n):\n",
    "        self.n = n\n",
    "    def __str__(self):\n",
    "        return str(self.n)\n",
    "\n",
    "    def __enter__(self):\n",
    "        return self\n",
    "\n",
    "    # In this I could write the clean up code\n",
    "\n",
    "    def __exit__(self, *args): #args are the errors that were reaise in the try block\n",
    "        print(args)\n",
    "        return True"
   ]
  },
  {
   "cell_type": "code",
   "execution_count": 150,
   "id": "43a8e4ef-f04a-42f0-8505-7b350ebe2e18",
   "metadata": {},
   "outputs": [
    {
     "name": "stdout",
     "output_type": "stream",
     "text": [
      "5\n",
      "(<class 'ZeroDivisionError'>, ZeroDivisionError('division by zero'), <traceback object at 0x12b7b5b40>)\n"
     ]
    }
   ],
   "source": [
    "with A(5) as a:\n",
    "    print(a)\n",
    "    print(10/0)\n",
    "    "
   ]
  },
  {
   "cell_type": "code",
   "execution_count": null,
   "id": "ea76f4fa-a355-409d-8db4-e7bfc574b7ea",
   "metadata": {},
   "outputs": [],
   "source": []
  }
 ],
 "metadata": {
  "kernelspec": {
   "display_name": "Python [conda env:base] *",
   "language": "python",
   "name": "conda-base-py"
  },
  "language_info": {
   "codemirror_mode": {
    "name": "ipython",
    "version": 3
   },
   "file_extension": ".py",
   "mimetype": "text/x-python",
   "name": "python",
   "nbconvert_exporter": "python",
   "pygments_lexer": "ipython3",
   "version": "3.12.7"
  }
 },
 "nbformat": 4,
 "nbformat_minor": 5
}
