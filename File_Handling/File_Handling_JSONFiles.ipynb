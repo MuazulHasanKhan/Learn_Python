{
 "cells": [
  {
   "cell_type": "code",
   "execution_count": 16,
   "id": "539ef146-a48c-4bd4-8144-91dd4d461c18",
   "metadata": {},
   "outputs": [],
   "source": [
    " # json file is similar to dictionaries in python\n",
    "import json"
   ]
  },
  {
   "cell_type": "code",
   "execution_count": 35,
   "id": "ffd0d2e4-a31d-4181-ac99-fa3b08c48419",
   "metadata": {},
   "outputs": [
    {
     "name": "stdout",
     "output_type": "stream",
     "text": [
      "{'exam': 'GATE 2024', 'paper code': 'CS', 'percentile': 99.7, 'AIR and score': [468, 760]}\n",
      "dict_keys(['exam', 'paper code', 'percentile', 'AIR and score'])\n",
      "dict_values(['GATE 2024', 'CS', 99.7, [468, 760]])\n"
     ]
    }
   ],
   "source": [
    "with open('Achievement.json', 'r') as file:\n",
    "    d = json.load(file)\n",
    "    print(d)\n",
    "    print(d.keys())\n",
    "    print(d.values())\n",
    "\n",
    "  \n",
    "    \n",
    "    "
   ]
  },
  {
   "cell_type": "code",
   "execution_count": 37,
   "id": "d1cea73f-0e73-44f1-9733-59de39623340",
   "metadata": {},
   "outputs": [
    {
     "data": {
      "text/plain": [
       "{'exam': 'GATE 2024',\n",
       " 'paper code': 'CS',\n",
       " 'percentile': 99.7,\n",
       " 'AIR and score': [468, 760]}"
      ]
     },
     "execution_count": 37,
     "metadata": {},
     "output_type": "execute_result"
    }
   ],
   "source": [
    "d"
   ]
  },
  {
   "cell_type": "code",
   "execution_count": 43,
   "id": "5b7ec10b-44cb-4ad9-8da3-6529ae8f09c5",
   "metadata": {},
   "outputs": [],
   "source": [
    "# Converting dictionary to JSON  string\n",
    "string = json.dumps(d)"
   ]
  },
  {
   "cell_type": "code",
   "execution_count": 47,
   "id": "8f4f1d1f-375b-413a-8029-89fc18821b01",
   "metadata": {},
   "outputs": [
    {
     "name": "stdout",
     "output_type": "stream",
     "text": [
      "{\"exam\": \"GATE 2024\", \"paper code\": \"CS\", \"percentile\": 99.7, \"AIR and score\": [468, 760]}\n"
     ]
    }
   ],
   "source": [
    "print(string)"
   ]
  },
  {
   "cell_type": "code",
   "execution_count": 49,
   "id": "b2985544-8043-4143-8dd4-5ec99b561aba",
   "metadata": {},
   "outputs": [],
   "source": [
    "with open('achievement2.json', 'w') as file:\n",
    "    json.dump(d, file)\n",
    "    "
   ]
  },
  {
   "cell_type": "code",
   "execution_count": null,
   "id": "c7c2d8b8-47f7-4ba3-9c55-e1bf53b32355",
   "metadata": {},
   "outputs": [],
   "source": [
    "''' Whenever we are tryinhg to scrap data using python or try to create web craw;ers or web scrapers\n",
    "we use these json methods\n",
    "'''"
   ]
  }
 ],
 "metadata": {
  "kernelspec": {
   "display_name": "Python [conda env:base] *",
   "language": "python",
   "name": "conda-base-py"
  },
  "language_info": {
   "codemirror_mode": {
    "name": "ipython",
    "version": 3
   },
   "file_extension": ".py",
   "mimetype": "text/x-python",
   "name": "python",
   "nbconvert_exporter": "python",
   "pygments_lexer": "ipython3",
   "version": "3.12.7"
  }
 },
 "nbformat": 4,
 "nbformat_minor": 5
}
