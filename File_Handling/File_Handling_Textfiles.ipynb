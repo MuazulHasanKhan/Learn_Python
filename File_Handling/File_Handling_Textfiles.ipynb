{
 "cells": [
  {
   "cell_type": "code",
   "execution_count": 13,
   "id": "4b3771b5-bb60-4bab-9007-22e1ad336eee",
   "metadata": {},
   "outputs": [],
   "source": [
    "# Opening a Text file\n",
    "\n",
    "file = open('hello.txt', 'r')"
   ]
  },
  {
   "cell_type": "code",
   "execution_count": 15,
   "id": "720d16c9-613d-4401-b156-dd5212dea888",
   "metadata": {},
   "outputs": [
    {
     "data": {
      "text/plain": [
       "'Hello World!'"
      ]
     },
     "execution_count": 15,
     "metadata": {},
     "output_type": "execute_result"
    }
   ],
   "source": [
    "file.read()"
   ]
  },
  {
   "cell_type": "code",
   "execution_count": 17,
   "id": "dae45818-6497-4b63-9273-bbf941f8bf6e",
   "metadata": {},
   "outputs": [
    {
     "data": {
      "text/plain": [
       "''"
      ]
     },
     "execution_count": 17,
     "metadata": {},
     "output_type": "execute_result"
    }
   ],
   "source": [
    "# this command is to read exactly 4 bytes form the file\n",
    "file.read(4)\n",
    "\n",
    "# This is because after file.read() cursor is the end"
   ]
  },
  {
   "cell_type": "code",
   "execution_count": 19,
   "id": "144b42b3-d1f0-41f6-881a-7ee586dfb94a",
   "metadata": {},
   "outputs": [],
   "source": [
    "file.close()\n",
    "# Always make sure to close the file as this may lead to corrupted file"
   ]
  },
  {
   "cell_type": "code",
   "execution_count": 31,
   "id": "a3b82f30-0ac4-485b-927f-2ad3aa12b1a8",
   "metadata": {},
   "outputs": [],
   "source": [
    "file = open('Hello.txt', 'r')"
   ]
  },
  {
   "cell_type": "code",
   "execution_count": 33,
   "id": "52666252-1e01-4c31-ba98-6ecfac3dea05",
   "metadata": {},
   "outputs": [
    {
     "data": {
      "text/plain": [
       "'Hello'"
      ]
     },
     "execution_count": 33,
     "metadata": {},
     "output_type": "execute_result"
    }
   ],
   "source": [
    "file.read(5)"
   ]
  },
  {
   "cell_type": "code",
   "execution_count": 35,
   "id": "60cfc90f-fff5-4313-a37c-6655762001fd",
   "metadata": {},
   "outputs": [],
   "source": [
    "file.close()"
   ]
  },
  {
   "cell_type": "code",
   "execution_count": 37,
   "id": "ed849860-09d1-4de9-8a42-c9071ae974ed",
   "metadata": {},
   "outputs": [],
   "source": [
    "file = open('abra_ka_dabra.txt', 'w')"
   ]
  },
  {
   "cell_type": "code",
   "execution_count": 39,
   "id": "fee26d3e-1774-46b5-a4ad-a0393c491b71",
   "metadata": {},
   "outputs": [
    {
     "data": {
      "text/plain": [
       "24"
      ]
     },
     "execution_count": 39,
     "metadata": {},
     "output_type": "execute_result"
    }
   ],
   "source": [
    "# file.write() returns thr number of Bytes to written in tha file\n",
    "\n",
    "file.write('Do you believe in Magic?')"
   ]
  },
  {
   "cell_type": "code",
   "execution_count": 41,
   "id": "3c41636e-4e36-4255-be61-e25a1fb0fb25",
   "metadata": {},
   "outputs": [],
   "source": [
    " file.close()"
   ]
  },
  {
   "cell_type": "code",
   "execution_count": 45,
   "id": "aa6aa271-4fdc-498e-8e0b-7f138719195f",
   "metadata": {},
   "outputs": [],
   "source": [
    "file = open('line_by_line.txt', 'r')\n"
   ]
  },
  {
   "cell_type": "code",
   "execution_count": 52,
   "id": "a90a8acc-d144-41d3-96b1-a85eafc8cd15",
   "metadata": {},
   "outputs": [
    {
     "data": {
      "text/plain": [
       "'I am grad student at IIT Kgp'"
      ]
     },
     "execution_count": 52,
     "metadata": {},
     "output_type": "execute_result"
    }
   ],
   "source": [
    "# file.readline() is basically used to read a text file line by line\n",
    "\n",
    "file.readline()"
   ]
  },
  {
   "cell_type": "code",
   "execution_count": 54,
   "id": "97c054f0-183e-47fa-a30c-8367f852edd2",
   "metadata": {},
   "outputs": [],
   "source": [
    "file.close()"
   ]
  },
  {
   "cell_type": "code",
   "execution_count": 65,
   "id": "e8a272b6-d2d5-458a-8a37-407aa66d395b",
   "metadata": {},
   "outputs": [],
   "source": [
    "file = open('line_by_line.txt', 'r')"
   ]
  },
  {
   "cell_type": "code",
   "execution_count": 67,
   "id": "3aba5512-fe40-44af-bbb5-c5207d08b7f0",
   "metadata": {},
   "outputs": [
    {
     "data": {
      "text/plain": [
       "['Hiii\\n', 'This is Muaz\\n', 'I am grad student at IIT Kgp']"
      ]
     },
     "execution_count": 67,
     "metadata": {},
     "output_type": "execute_result"
    }
   ],
   "source": [
    "file.readlines() #This gives us a list of lines present in the text file"
   ]
  },
  {
   "cell_type": "code",
   "execution_count": 69,
   "id": "ca8c872e-be1c-4090-9fd2-26a9fcfa80a5",
   "metadata": {},
   "outputs": [
    {
     "data": {
      "text/plain": [
       "''"
      ]
     },
     "execution_count": 69,
     "metadata": {},
     "output_type": "execute_result"
    }
   ],
   "source": [
    "file.read()"
   ]
  },
  {
   "cell_type": "code",
   "execution_count": 71,
   "id": "8cc29bf1-7f7c-476c-b7ac-3098d96f44be",
   "metadata": {},
   "outputs": [
    {
     "data": {
      "text/plain": [
       "0"
      ]
     },
     "execution_count": 71,
     "metadata": {},
     "output_type": "execute_result"
    }
   ],
   "source": [
    "# Moving the cursor\n",
    "file.seek(0) \n",
    "\n",
    "# Places the cursor on the zeroth byte"
   ]
  },
  {
   "cell_type": "code",
   "execution_count": 75,
   "id": "69935198-8654-4cfc-8693-c3d8395e358b",
   "metadata": {},
   "outputs": [
    {
     "data": {
      "text/plain": [
       "'Hiii\\nThis is Muaz\\nI am grad student at IIT Kgp'"
      ]
     },
     "execution_count": 75,
     "metadata": {},
     "output_type": "execute_result"
    }
   ],
   "source": [
    "file.read()"
   ]
  },
  {
   "cell_type": "code",
   "execution_count": 79,
   "id": "712a7f32-b70f-4387-8a81-7dfa6c0a027b",
   "metadata": {},
   "outputs": [
    {
     "name": "stdout",
     "output_type": "stream",
     "text": [
      "Hiii\n",
      "This is Muaz\n",
      "I am grad student at IIT Kgp\n",
      "This is Muaz\n",
      "I am grad student at IIT Kgp\n"
     ]
    }
   ],
   "source": [
    "# More efficient way of dealing with loops \n",
    "\n",
    "with open('line_by_line.txt', 'r') as file:\n",
    "    print(file.read())\n",
    "    file.seek(5)\n",
    "    print(file.read())"
   ]
  },
  {
   "cell_type": "code",
   "execution_count": null,
   "id": "569be471-7698-4cc9-bdb3-be312f1753aa",
   "metadata": {},
   "outputs": [],
   "source": []
  }
 ],
 "metadata": {
  "kernelspec": {
   "display_name": "Python [conda env:base] *",
   "language": "python",
   "name": "conda-base-py"
  },
  "language_info": {
   "codemirror_mode": {
    "name": "ipython",
    "version": 3
   },
   "file_extension": ".py",
   "mimetype": "text/x-python",
   "name": "python",
   "nbconvert_exporter": "python",
   "pygments_lexer": "ipython3",
   "version": "3.12.7"
  }
 },
 "nbformat": 4,
 "nbformat_minor": 5
}
