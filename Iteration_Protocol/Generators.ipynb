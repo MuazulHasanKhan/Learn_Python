{
 "cells": [
  {
   "cell_type": "code",
   "execution_count": null,
   "id": "2981f59d-29d6-4e79-b538-98b234365504",
   "metadata": {},
   "outputs": [],
   "source": [
    "# Why do we need generaotrs?\n",
    "# generators are simple functions or expressions which used to create iterator"
   ]
  },
  {
   "cell_type": "code",
   "execution_count": 12,
   "id": "b0605769-7aa9-4361-88d1-05dc6046f5a5",
   "metadata": {},
   "outputs": [],
   "source": [
    "class fib:\n",
    "    def __init__(self):\n",
    "        self.prev = 0\n",
    "        self.curr = 1\n",
    "\n",
    "    def __iter__(self):\n",
    "        return self\n",
    "\n",
    "    def __next__(self):\n",
    "        value = self.curr\n",
    "        self.curr += self.curr\n",
    "        self.prev = value\n",
    "        return value"
   ]
  },
  {
   "cell_type": "code",
   "execution_count": 14,
   "id": "2d4bee1b-943d-4782-9a8e-42b8b8ec51ff",
   "metadata": {},
   "outputs": [],
   "source": [
    "f = iter(fib())\n"
   ]
  },
  {
   "cell_type": "code",
   "execution_count": 16,
   "id": "817cf7fe-e33c-4cce-bcc4-fdc5b61c1d91",
   "metadata": {},
   "outputs": [
    {
     "data": {
      "text/plain": [
       "1"
      ]
     },
     "execution_count": 16,
     "metadata": {},
     "output_type": "execute_result"
    }
   ],
   "source": [
    "next(f)"
   ]
  },
  {
   "cell_type": "code",
   "execution_count": 18,
   "id": "a675d2e0-8252-485b-ac2e-924e7cc4021e",
   "metadata": {},
   "outputs": [],
   "source": [
    "# We could shorten the above code using generators"
   ]
  },
  {
   "cell_type": "code",
   "execution_count": 38,
   "id": "250226f0-d586-4be5-bf8f-3c3758761598",
   "metadata": {},
   "outputs": [],
   "source": [
    "# if any function has a keyword yield it is called a generator function\n",
    "def fib():\n",
    "    prev, curr = 0, 1\n",
    "    #to create genartors theres a keyword called yield\n",
    "    while True:\n",
    "        yield curr # at this point all the variables \n",
    "        prev, curr = curr, prev + curr"
   ]
  },
  {
   "cell_type": "code",
   "execution_count": 40,
   "id": "34bcd01f-74e9-4699-b4fd-1e5c7e77823e",
   "metadata": {},
   "outputs": [],
   "source": [
    "gen = fib()"
   ]
  },
  {
   "cell_type": "code",
   "execution_count": 52,
   "id": "fc1adb07-d84b-4a35-b8e4-5c2de9ac2a53",
   "metadata": {},
   "outputs": [
    {
     "data": {
      "text/plain": [
       "5"
      ]
     },
     "execution_count": 52,
     "metadata": {},
     "output_type": "execute_result"
    }
   ],
   "source": [
    "next(gen)"
   ]
  },
  {
   "cell_type": "code",
   "execution_count": null,
   "id": "1146c0bd-a7a6-4b73-bab1-8c09bf397454",
   "metadata": {},
   "outputs": [],
   "source": [
    "#Generator Expression\n",
    "#Now what generator functions are and how to basically use them"
   ]
  },
  {
   "cell_type": "code",
   "execution_count": 54,
   "id": "25552a20-08d5-40c3-96ad-c65da8aaaac2",
   "metadata": {},
   "outputs": [],
   "source": [
    "# Using yield and returm together"
   ]
  },
  {
   "cell_type": "code",
   "execution_count": 56,
   "id": "3730e74d-1347-4237-a0e3-6b4a13993f6b",
   "metadata": {},
   "outputs": [],
   "source": [
    "def countdown(n):\n",
    "    while n>0:\n",
    "        yield n\n",
    "        n -= 1\n",
    "    return \"Done!\"\n",
    "    "
   ]
  },
  {
   "cell_type": "code",
   "execution_count": 58,
   "id": "d48cfa72-89a2-495b-93d9-3bd7d6fe6a18",
   "metadata": {},
   "outputs": [],
   "source": [
    "gen = countdown(3)"
   ]
  },
  {
   "cell_type": "code",
   "execution_count": 68,
   "id": "87c3fd0b-f44f-484f-84f9-2ce648238595",
   "metadata": {},
   "outputs": [
    {
     "name": "stdout",
     "output_type": "stream",
     "text": [
      "Generator ended with return value: None\n"
     ]
    }
   ],
   "source": [
    "try:\n",
    "    while True:\n",
    "        print(next(gen))\n",
    "except StopIteration as e:\n",
    "    print(\"Generator ended with return value:\", e.value)"
   ]
  },
  {
   "cell_type": "code",
   "execution_count": 70,
   "id": "791395fe-e73f-4017-841c-5e37efd91bef",
   "metadata": {},
   "outputs": [],
   "source": [
    "#Generator expressions"
   ]
  },
  {
   "cell_type": "code",
   "execution_count": 76,
   "id": "4216033e-089d-4aa2-8356-71a19a5f78dc",
   "metadata": {},
   "outputs": [],
   "source": [
    "gen = (x**2 for x in range(1,11))"
   ]
  },
  {
   "cell_type": "code",
   "execution_count": 87,
   "id": "e51b6444-bfbd-42ef-96b8-a6179ce0d4f7",
   "metadata": {},
   "outputs": [
    {
     "data": {
      "text/plain": [
       "25"
      ]
     },
     "execution_count": 87,
     "metadata": {},
     "output_type": "execute_result"
    }
   ],
   "source": [
    "next(gen)"
   ]
  },
  {
   "cell_type": "code",
   "execution_count": null,
   "id": "99d0621f-c0c8-4aed-8173-c9d07e97b000",
   "metadata": {},
   "outputs": [],
   "source": []
  },
  {
   "cell_type": "code",
   "execution_count": null,
   "id": "2ec1f8c4-7040-497c-b2a9-39b32aad3676",
   "metadata": {},
   "outputs": [],
   "source": []
  }
 ],
 "metadata": {
  "kernelspec": {
   "display_name": "Python [conda env:base] *",
   "language": "python",
   "name": "conda-base-py"
  },
  "language_info": {
   "codemirror_mode": {
    "name": "ipython",
    "version": 3
   },
   "file_extension": ".py",
   "mimetype": "text/x-python",
   "name": "python",
   "nbconvert_exporter": "python",
   "pygments_lexer": "ipython3",
   "version": "3.12.7"
  }
 },
 "nbformat": 4,
 "nbformat_minor": 5
}
