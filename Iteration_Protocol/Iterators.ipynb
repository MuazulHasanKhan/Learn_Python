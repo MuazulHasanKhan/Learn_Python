{
 "cells": [
  {
   "cell_type": "code",
   "execution_count": 10,
   "id": "2471f3c8-69e4-4c0e-aa5c-fc875811c51a",
   "metadata": {},
   "outputs": [],
   "source": [
    "x = [7, 8, 6]"
   ]
  },
  {
   "cell_type": "code",
   "execution_count": 12,
   "id": "fd12ff44-e4f4-4ba4-8577-70f40f1d49e1",
   "metadata": {},
   "outputs": [],
   "source": [
    "x_iter = iter(x)"
   ]
  },
  {
   "cell_type": "code",
   "execution_count": 14,
   "id": "b4bfd8b1-6da3-43c1-aca9-b05bb14bbb8f",
   "metadata": {},
   "outputs": [
    {
     "data": {
      "text/plain": [
       "<list_iterator at 0x1039bfeb0>"
      ]
     },
     "execution_count": 14,
     "metadata": {},
     "output_type": "execute_result"
    }
   ],
   "source": [
    "x_iter"
   ]
  },
  {
   "cell_type": "code",
   "execution_count": 16,
   "id": "9d7d49a2-8cbf-4a09-8de7-cd2137a9cccf",
   "metadata": {},
   "outputs": [
    {
     "data": {
      "text/plain": [
       "7"
      ]
     },
     "execution_count": 16,
     "metadata": {},
     "output_type": "execute_result"
    }
   ],
   "source": [
    "next(x_iter)"
   ]
  },
  {
   "cell_type": "code",
   "execution_count": 18,
   "id": "a06da5ff-ae9a-4c4e-b24c-b4828b696133",
   "metadata": {},
   "outputs": [
    {
     "data": {
      "text/plain": [
       "8"
      ]
     },
     "execution_count": 18,
     "metadata": {},
     "output_type": "execute_result"
    }
   ],
   "source": [
    "next(x_iter)"
   ]
  },
  {
   "cell_type": "code",
   "execution_count": 20,
   "id": "8dbc56bf-f634-4044-9f0b-4fd6c389ca9f",
   "metadata": {},
   "outputs": [
    {
     "data": {
      "text/plain": [
       "6"
      ]
     },
     "execution_count": 20,
     "metadata": {},
     "output_type": "execute_result"
    }
   ],
   "source": [
    "next(x_iter)"
   ]
  },
  {
   "cell_type": "code",
   "execution_count": 22,
   "id": "17f4ba05-0b7d-4aef-9b70-8aedc2f641f9",
   "metadata": {},
   "outputs": [
    {
     "ename": "StopIteration",
     "evalue": "",
     "output_type": "error",
     "traceback": [
      "\u001b[0;31m---------------------------------------------------------------------------\u001b[0m",
      "\u001b[0;31mStopIteration\u001b[0m                             Traceback (most recent call last)",
      "Cell \u001b[0;32mIn[22], line 1\u001b[0m\n\u001b[0;32m----> 1\u001b[0m \u001b[38;5;28mnext\u001b[39m(x_iter)\n",
      "\u001b[0;31mStopIteration\u001b[0m: "
     ]
    }
   ],
   "source": [
    "next(x_iter)"
   ]
  },
  {
   "cell_type": "code",
   "execution_count": 26,
   "id": "d205d3a8-0ce5-4557-9e66-2ea88f04f626",
   "metadata": {},
   "outputs": [],
   "source": [
    "# It is both iterable and iterator\n",
    "class yrange:\n",
    "#  n is the number upto which we want the range\n",
    "    def __init__(self, n):\n",
    "        self.i = 0\n",
    "        self.n = n\n",
    "\n",
    "#this method maked our class iterable\n",
    "    def __iter__(self):\n",
    "        return self\n",
    "\n",
    "#this method should be implemented by iterator\n",
    "\n",
    "    def __next__(self):\n",
    "        if self.i < self.n:\n",
    "            i = self.i\n",
    "            self.i += 1\n",
    "            return i\n",
    "        else:\n",
    "            raise StopIteration()\n",
    "            "
   ]
  },
  {
   "cell_type": "code",
   "execution_count": 28,
   "id": "98757de0-8ae6-46cd-8a98-10c413e395bc",
   "metadata": {},
   "outputs": [
    {
     "name": "stdout",
     "output_type": "stream",
     "text": [
      "0\n",
      "1\n",
      "2\n",
      "3\n",
      "4\n"
     ]
    }
   ],
   "source": [
    "\n",
    "for x in yrange(5):\n",
    "    print(x)"
   ]
  },
  {
   "cell_type": "code",
   "execution_count": 30,
   "id": "9070cf1c-1245-4d84-8eab-c9cdccbbff33",
   "metadata": {},
   "outputs": [],
   "source": [
    "y = yrange(5)"
   ]
  },
  {
   "cell_type": "code",
   "execution_count": 32,
   "id": "1beb3a6d-74c7-4381-b3ba-cc493fc4e37a",
   "metadata": {},
   "outputs": [],
   "source": [
    "# We should create iterable and iterator in different classes"
   ]
  },
  {
   "cell_type": "code",
   "execution_count": null,
   "id": "6172eb3d-7909-4d12-8d5b-db87dbfee128",
   "metadata": {},
   "outputs": [],
   "source": [
    "#This is an iterable class\n",
    "class zrange:\n",
    "    def __init__(self, n):\n",
    "        self.n = n\n",
    "    def __iter__(self):\n",
    "        return zrange_iter(self.n)\n",
    "\n",
    "#this is an iterator class\n",
    "class zrange_iter:\n",
    "    def __init__(self, n):\n",
    "        self.i = 0\n",
    "        self.n = n\n",
    "\n",
    "    def __iter__(self):\n",
    "        return self\n",
    "\n",
    "    def __next__(self):\n",
    "        if self.i < self.n:\n",
    "            i = self.i\n",
    "            self.i += 1\n",
    "            return i\n",
    "        else:\n",
    "            raise StopIteration()\n",
    "\n",
    "\n",
    "\n",
    "    "
   ]
  },
  {
   "cell_type": "code",
   "execution_count": 1,
   "id": "9ee16ef5-7e47-4455-b0b4-036d7869ce46",
   "metadata": {},
   "outputs": [
    {
     "ename": "NameError",
     "evalue": "name 'zrange' is not defined",
     "output_type": "error",
     "traceback": [
      "\u001b[0;31m---------------------------------------------------------------------------\u001b[0m",
      "\u001b[0;31mNameError\u001b[0m                                 Traceback (most recent call last)",
      "Cell \u001b[0;32mIn[1], line 1\u001b[0m\n\u001b[0;32m----> 1\u001b[0m \u001b[38;5;28;01mfor\u001b[39;00m i \u001b[38;5;129;01min\u001b[39;00m zrange(\u001b[38;5;241m5\u001b[39m):\n\u001b[1;32m      2\u001b[0m     \u001b[38;5;28mprint\u001b[39m(i)\n",
      "\u001b[0;31mNameError\u001b[0m: name 'zrange' is not defined"
     ]
    }
   ],
   "source": [
    "for i in zrange(5):\n",
    "    print(i)"
   ]
  },
  {
   "cell_type": "code",
   "execution_count": 5,
   "id": "f0e7ac6b-79b6-454f-9d26-0a1e63bf3571",
   "metadata": {},
   "outputs": [
    {
     "name": "stdout",
     "output_type": "stream",
     "text": [
      "1\n",
      "[1, 2]\n",
      "3\n",
      "4\n"
     ]
    }
   ],
   "source": [
    "a = [1, [1,2], 3, 4]\n",
    "\n",
    "for x in a:\n",
    "    # perform some task on each element \n",
    "    print(x)"
   ]
  },
  {
   "cell_type": "code",
   "execution_count": 7,
   "id": "ab9bef9b-324a-4609-9d45-02a94b5d69cd",
   "metadata": {},
   "outputs": [
    {
     "name": "stdout",
     "output_type": "stream",
     "text": [
      "M\n",
      "u\n",
      "a\n",
      "z\n"
     ]
    }
   ],
   "source": [
    "name = 'Muaz'\n",
    "\n",
    "for char in name:\n",
    "    print(char)"
   ]
  },
  {
   "cell_type": "code",
   "execution_count": 9,
   "id": "a022af2d-a4cf-4023-92fa-f171bc2dcc11",
   "metadata": {},
   "outputs": [],
   "source": [
    "d = {'name' :'Muaz', 'Home': 'Bareilly'}"
   ]
  },
  {
   "cell_type": "code",
   "execution_count": 11,
   "id": "e5698773-53ee-4fda-ab6a-117dce536484",
   "metadata": {},
   "outputs": [
    {
     "name": "stdout",
     "output_type": "stream",
     "text": [
      "name\n",
      "Home\n"
     ]
    }
   ],
   "source": [
    "for i in d:\n",
    "    print(i)"
   ]
  },
  {
   "cell_type": "code",
   "execution_count": 19,
   "id": "0b64df9c-e872-4783-97fe-366dea421960",
   "metadata": {},
   "outputs": [
    {
     "name": "stdout",
     "output_type": "stream",
     "text": [
      "Hiii\n",
      "\n",
      "Myself Muaz\n",
      "\n",
      "I like Forty Rules of Love\n"
     ]
    }
   ],
   "source": [
    "for line in open('Muaz.txt', 'r'):\n",
    "    print(line)"
   ]
  },
  {
   "cell_type": "code",
   "execution_count": null,
   "id": "5acec9da-be69-4feb-8c1f-7d4631d7d2e5",
   "metadata": {},
   "outputs": [],
   "source": [
    "# Is iterable only useful for for loops, or looping over them"
   ]
  },
  {
   "cell_type": "code",
   "execution_count": 21,
   "id": "f0b2c66c-ea8a-4cdf-aefb-15a2ffd2636f",
   "metadata": {},
   "outputs": [
    {
     "data": {
      "text/plain": [
       "'a-b-c'"
      ]
     },
     "execution_count": 21,
     "metadata": {},
     "output_type": "execute_result"
    }
   ],
   "source": [
    "'-'.join(['a', 'b', 'c'])"
   ]
  },
  {
   "cell_type": "code",
   "execution_count": 27,
   "id": "6c78e490-3722-402f-8b81-6dec032699e5",
   "metadata": {},
   "outputs": [
    {
     "data": {
      "text/plain": [
       "'name,Home'"
      ]
     },
     "execution_count": 27,
     "metadata": {},
     "output_type": "execute_result"
    }
   ],
   "source": [
    "','.join(d)"
   ]
  },
  {
   "cell_type": "code",
   "execution_count": 29,
   "id": "944c3859-4077-4d08-a9b9-46c65952691e",
   "metadata": {},
   "outputs": [],
   "source": [
    "a = list('jatin')"
   ]
  },
  {
   "cell_type": "code",
   "execution_count": 31,
   "id": "35d9e6f2-0cb8-4e4b-a085-37ae986ce46f",
   "metadata": {},
   "outputs": [
    {
     "data": {
      "text/plain": [
       "['j', 'a', 't', 'i', 'n']"
      ]
     },
     "execution_count": 31,
     "metadata": {},
     "output_type": "execute_result"
    }
   ],
   "source": [
    "a"
   ]
  },
  {
   "cell_type": "code",
   "execution_count": 33,
   "id": "843fadb9-2ba8-4ed8-be18-71c899e47c6d",
   "metadata": {},
   "outputs": [],
   "source": [
    "a = [1, 2, 3, 4]"
   ]
  },
  {
   "cell_type": "code",
   "execution_count": 35,
   "id": "f7ca45d2-5718-4d97-af43-081267952e01",
   "metadata": {},
   "outputs": [
    {
     "data": {
      "text/plain": [
       "10"
      ]
     },
     "execution_count": 35,
     "metadata": {},
     "output_type": "execute_result"
    }
   ],
   "source": [
    "sum(a)"
   ]
  },
  {
   "cell_type": "code",
   "execution_count": null,
   "id": "c1ebe29d-6334-4609-91fa-c80362cc34a7",
   "metadata": {},
   "outputs": [],
   "source": []
  }
 ],
 "metadata": {
  "kernelspec": {
   "display_name": "Python [conda env:base] *",
   "language": "python",
   "name": "conda-base-py"
  },
  "language_info": {
   "codemirror_mode": {
    "name": "ipython",
    "version": 3
   },
   "file_extension": ".py",
   "mimetype": "text/x-python",
   "name": "python",
   "nbconvert_exporter": "python",
   "pygments_lexer": "ipython3",
   "version": "3.12.7"
  }
 },
 "nbformat": 4,
 "nbformat_minor": 5
}
