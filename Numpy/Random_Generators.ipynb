{
 "cells": [
  {
   "cell_type": "code",
   "execution_count": 2,
   "id": "9c6e93f6-81a8-42e0-baa6-14b0a94f05d8",
   "metadata": {},
   "outputs": [],
   "source": [
    "# Numpy Random Module\n",
    "\n",
    "# rand: Random values in a given shape\n",
    "# randn: Return a sample(or samples) from the 'Standard Normal Distribution'\n",
    "# randint: Return random integers from low(inclusive) to high(exclusive)\n",
    "# random: return random floats in the half open interval [0.0, 1.0)\n",
    "# choice: Generates a random sample from a givne 1-D array\n",
    "# Shuffle: Shuffles the contents of a sequence"
   ]
  },
  {
   "cell_type": "code",
   "execution_count": 6,
   "id": "9033162e-70af-466b-9a1c-c15b4d4c0bd5",
   "metadata": {},
   "outputs": [],
   "source": [
    "import numpy as np"
   ]
  },
  {
   "cell_type": "code",
   "execution_count": 66,
   "id": "18eb4edc-a827-4542-9d37-2035f1a245ef",
   "metadata": {},
   "outputs": [],
   "source": [
    "np.random.seed(2)"
   ]
  },
  {
   "cell_type": "code",
   "execution_count": 82,
   "id": "799c8c2f-780c-4e3d-8832-57f2b6259625",
   "metadata": {},
   "outputs": [
    {
     "name": "stdout",
     "output_type": "stream",
     "text": [
      "[0 1 2 3 4 5 6 7 8 9]\n"
     ]
    }
   ],
   "source": [
    "a = np.arange(10)\n",
    "print(a)"
   ]
  },
  {
   "cell_type": "code",
   "execution_count": 88,
   "id": "d5a4064f-f689-413e-8d92-c9bc895567ae",
   "metadata": {},
   "outputs": [
    {
     "name": "stdout",
     "output_type": "stream",
     "text": [
      "[6 1 5 7 3 2 4 0 9 8]\n"
     ]
    }
   ],
   "source": [
    "np.random.seed(2) # psuedo random number generators\n",
    "np.random.shuffle(a)\n",
    "print(a)"
   ]
  },
  {
   "cell_type": "code",
   "execution_count": 80,
   "id": "d3424056-4b0b-4c4e-b946-236b5af6182b",
   "metadata": {},
   "outputs": [
    {
     "name": "stdout",
     "output_type": "stream",
     "text": [
      "[[0.18508208 0.93154087 0.94773061]\n",
      " [0.4847491  0.32053644 0.15442667]]\n"
     ]
    }
   ],
   "source": [
    "a = np.random.rand(2,3)\n",
    "print(a)"
   ]
  },
  {
   "cell_type": "code",
   "execution_count": 40,
   "id": "f9d6df96-7390-4ba3-b64a-e5d312d4557f",
   "metadata": {},
   "outputs": [
    {
     "name": "stdout",
     "output_type": "stream",
     "text": [
      "[[ 0.31005574  0.47839416 -0.16146673]\n",
      " [-0.0517933   0.72193252 -0.05037844]]\n"
     ]
    }
   ],
   "source": [
    "a = np.random.randn(2,3)\n",
    "print(a)"
   ]
  },
  {
   "cell_type": "code",
   "execution_count": 48,
   "id": "91a80fcf-65c8-4766-9f0f-ef675793afc0",
   "metadata": {},
   "outputs": [
    {
     "name": "stdout",
     "output_type": "stream",
     "text": [
      "[8 9 8]\n"
     ]
    }
   ],
   "source": [
    "a = np.random.randint(5,10, 3)\n",
    "print(a)"
   ]
  },
  {
   "cell_type": "code",
   "execution_count": 52,
   "id": "607c2056-077a-4d36-a19f-f54b0d2d83d0",
   "metadata": {},
   "outputs": [
    {
     "name": "stdout",
     "output_type": "stream",
     "text": [
      "4\n"
     ]
    }
   ],
   "source": [
    "# Randomly pick one element form a array\n",
    "element = np.random.choice([1, 2, 3, 4, 5, 6])\n",
    "print(element)"
   ]
  },
  {
   "cell_type": "code",
   "execution_count": null,
   "id": "165c296a-66ac-43e1-b65a-a40daa874cb8",
   "metadata": {},
   "outputs": [],
   "source": []
  }
 ],
 "metadata": {
  "kernelspec": {
   "display_name": "Python [conda env:base] *",
   "language": "python",
   "name": "conda-base-py"
  },
  "language_info": {
   "codemirror_mode": {
    "name": "ipython",
    "version": 3
   },
   "file_extension": ".py",
   "mimetype": "text/x-python",
   "name": "python",
   "nbconvert_exporter": "python",
   "pygments_lexer": "ipython3",
   "version": "3.12.7"
  }
 },
 "nbformat": 4,
 "nbformat_minor": 5
}
