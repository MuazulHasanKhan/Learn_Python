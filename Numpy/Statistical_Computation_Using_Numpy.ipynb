{
 "cells": [
  {
   "cell_type": "code",
   "execution_count": 2,
   "id": "467a0a5d-2794-44a4-be8f-92414084cf9b",
   "metadata": {},
   "outputs": [],
   "source": [
    "import numpy as np"
   ]
  },
  {
   "cell_type": "code",
   "execution_count": 4,
   "id": "6a8c22ca-2712-4830-b5ec-398297c3abe0",
   "metadata": {},
   "outputs": [],
   "source": [
    "# Some More Numpy Functions - Statistics\n",
    "# min, max\n",
    "# mean\n",
    "# median\n",
    "# average\n",
    "# variance\n",
    "# standard deviation"
   ]
  },
  {
   "cell_type": "code",
   "execution_count": 6,
   "id": "2a368f94-3266-42e6-a3b7-59cddc679044",
   "metadata": {},
   "outputs": [
    {
     "name": "stdout",
     "output_type": "stream",
     "text": [
      "[[1 2 3 4]\n",
      " [7 6 2 0]]\n"
     ]
    }
   ],
   "source": [
    "a = np.array([[1, 2, 3, 4], [7, 6, 2, 0]])\n",
    "print(a)"
   ]
  },
  {
   "cell_type": "code",
   "execution_count": 12,
   "id": "971c17a9-331c-49ff-8a95-c3e65f6d5931",
   "metadata": {},
   "outputs": [
    {
     "data": {
      "text/plain": [
       "array([2.5 , 3.75])"
      ]
     },
     "execution_count": 12,
     "metadata": {},
     "output_type": "execute_result"
    }
   ],
   "source": [
    "np.mean(a, axis = 1)"
   ]
  },
  {
   "cell_type": "code",
   "execution_count": 16,
   "id": "3f82cf9c-5f1e-4ede-a3e0-ec78f14e4714",
   "metadata": {},
   "outputs": [
    {
     "data": {
      "text/plain": [
       "array([1, 2, 2, 0])"
      ]
     },
     "execution_count": 16,
     "metadata": {},
     "output_type": "execute_result"
    }
   ],
   "source": [
    "np.min(a, axis = 0)"
   ]
  },
  {
   "cell_type": "code",
   "execution_count": 18,
   "id": "0af9aafe-a1ae-4f20-acaf-4e5fe010617c",
   "metadata": {},
   "outputs": [
    {
     "data": {
      "text/plain": [
       "3.125"
      ]
     },
     "execution_count": 18,
     "metadata": {},
     "output_type": "execute_result"
    }
   ],
   "source": [
    "np.mean(a)"
   ]
  },
  {
   "cell_type": "code",
   "execution_count": 20,
   "id": "2d051575-8bb7-41e0-b917-37c1c8541423",
   "metadata": {},
   "outputs": [],
   "source": [
    "b = a - 3.125"
   ]
  },
  {
   "cell_type": "code",
   "execution_count": 22,
   "id": "2c74b61e-fae1-4c04-9e46-90ef145be6f0",
   "metadata": {},
   "outputs": [
    {
     "data": {
      "text/plain": [
       "5.109375"
      ]
     },
     "execution_count": 22,
     "metadata": {},
     "output_type": "execute_result"
    }
   ],
   "source": [
    "np.mean(b*b)"
   ]
  },
  {
   "cell_type": "code",
   "execution_count": 28,
   "id": "43af4195-db23-41f7-b5e0-0f9b646f0ce7",
   "metadata": {},
   "outputs": [
    {
     "data": {
      "text/plain": [
       "5.109375"
      ]
     },
     "execution_count": 28,
     "metadata": {},
     "output_type": "execute_result"
    }
   ],
   "source": [
    "np.var(a)"
   ]
  },
  {
   "cell_type": "code",
   "execution_count": null,
   "id": "7351a3cd-561d-4fcb-b231-26700b9d3918",
   "metadata": {},
   "outputs": [],
   "source": []
  }
 ],
 "metadata": {
  "kernelspec": {
   "display_name": "Python [conda env:base] *",
   "language": "python",
   "name": "conda-base-py"
  },
  "language_info": {
   "codemirror_mode": {
    "name": "ipython",
    "version": 3
   },
   "file_extension": ".py",
   "mimetype": "text/x-python",
   "name": "python",
   "nbconvert_exporter": "python",
   "pygments_lexer": "ipython3",
   "version": "3.12.7"
  }
 },
 "nbformat": 4,
 "nbformat_minor": 5
}
