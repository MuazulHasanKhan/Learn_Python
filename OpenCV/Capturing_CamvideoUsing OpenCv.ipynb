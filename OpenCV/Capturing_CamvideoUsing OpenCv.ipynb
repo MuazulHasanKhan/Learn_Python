{
 "cells": [
  {
   "cell_type": "code",
   "execution_count": 6,
   "id": "5b34c23f-a014-4cfe-8a94-d4f774f0356d",
   "metadata": {},
   "outputs": [],
   "source": [
    "import cv2"
   ]
  },
  {
   "cell_type": "code",
   "execution_count": 8,
   "id": "f5a1bd20-312a-4c4f-a849-935503dda83f",
   "metadata": {},
   "outputs": [],
   "source": [
    "cap = cv2.VideoCapture(0)"
   ]
  },
  {
   "cell_type": "code",
   "execution_count": 5,
   "id": "1989e43b-b110-400c-8282-e6b67f5adab6",
   "metadata": {},
   "outputs": [],
   "source": [
    "while True:\n",
    "    ret, frame = cap.read() # ret is a boolean value\n",
    "\n",
    "    if ret == False:\n",
    "        continue\n",
    "\n",
    "    cv2.imshow('Video Frame', frame)\n",
    "\n",
    "    #wait for user input - q, we will stop the loop\n",
    "    key_press = cv2.waitKey(1) & 0xFF #0xFF HAS 8 ones, Read about this more\n",
    "    if key_press == ord('q'): #ord() gives ascii value\n",
    "        break\n",
    "\n",
    "cap.release()\n",
    "cv2.destroyAllWindows()\n",
    "\n",
    "#runs better with pycharm"
   ]
  },
  {
   "cell_type": "code",
   "execution_count": 12,
   "id": "94070e40-cb7c-4b26-90e3-50671909115c",
   "metadata": {},
   "outputs": [],
   "source": [
    "while True:\n",
    "    ret, frame = cap.read\n",
    "\n",
    "    if ret == False:\n",
    "        continue\n",
    "    gray = cv2.cvtColor(frame, cv2.COLOR_BGR2GRAY)\n",
    "    cv2.imshow('Grayscale Video', gray)\n",
    "\n",
    "    key_press = cv2.waitKey(1) & 0xFF\n",
    "    if key_press == ord('q'):\n",
    "        break\n",
    "\n",
    "cap.release()\n",
    "cv2.destroyAllWindows()"
   ]
  },
  {
   "cell_type": "code",
   "execution_count": 16,
   "id": "84ddf789-d719-4076-9d7f-99553de23c41",
   "metadata": {},
   "outputs": [],
   "source": [
    "import cv2"
   ]
  },
  {
   "cell_type": "code",
   "execution_count": 24,
   "id": "ad575604-e1bd-44c7-a9a0-4fd9f6e4ae25",
   "metadata": {},
   "outputs": [],
   "source": [
    "cap = cv2.VideoCapture(0)\n",
    "\n",
    "while True:\n",
    "    ret, frame = cap.read()\n",
    "\n",
    "    if ret == False:\n",
    "        continue\n",
    "\n",
    "    gray = cv2.cvtColor(frame, cv2.COLOR_BGR2GRAY)\n",
    "    cv2.imshow('Grayscale Video', gray)\n",
    "\n",
    "    key_press = cv2.waitKey(1) & 0xFF\n",
    "\n",
    "    if key_press == ord('q'):\n",
    "        break\n",
    "\n",
    "cap.release()\n",
    "cv2.destroyAllWindows()"
   ]
  },
  {
   "cell_type": "code",
   "execution_count": null,
   "id": "a7f1a998-15ff-4b0c-bd9b-41d1e3a5b189",
   "metadata": {},
   "outputs": [],
   "source": []
  }
 ],
 "metadata": {
  "kernelspec": {
   "display_name": "Python [conda env:base] *",
   "language": "python",
   "name": "conda-base-py"
  },
  "language_info": {
   "codemirror_mode": {
    "name": "ipython",
    "version": 3
   },
   "file_extension": ".py",
   "mimetype": "text/x-python",
   "name": "python",
   "nbconvert_exporter": "python",
   "pygments_lexer": "ipython3",
   "version": "3.12.7"
  }
 },
 "nbformat": 4,
 "nbformat_minor": 5
}
