{
 "cells": [
  {
   "cell_type": "code",
   "execution_count": 3,
   "id": "b2da1f2f-61ce-406e-9360-fd05cb119a2e",
   "metadata": {},
   "outputs": [],
   "source": [
    "import cv2"
   ]
  },
  {
   "cell_type": "code",
   "execution_count": 5,
   "id": "3d4e2149-88df-492f-9fd7-c6daf58dfc4f",
   "metadata": {},
   "outputs": [],
   "source": [
    "cap = cv2.VideoCapture(0) #0 is for default camera"
   ]
  },
  {
   "cell_type": "code",
   "execution_count": 8,
   "id": "64fd245f-bd53-47cf-95b1-fe8c772a0f04",
   "metadata": {},
   "outputs": [],
   "source": [
    "face_cascade = cv2.CascadeClassifier('haarcascade_frontalface_alt.xml')"
   ]
  },
  {
   "cell_type": "code",
   "execution_count": null,
   "id": "2b8eea01-2da8-434d-8d1c-f170d77b0a5c",
   "metadata": {},
   "outputs": [],
   "source": [
    "while True:\n",
    "    ret, frame = cap.read()\n",
    "\n",
    "    if ret == False:\n",
    "        continue\n",
    "\n",
    "    gray_frame = cv2.cvtColor(frame, cv2.COLOR_BGR2GRAY)\n",
    "\n",
    "    faces = face_cascade.detectMultiScale(gray_frame, 1.3, 5) #1.3 = scaling factor, #5 = neighbours\n",
    "    #if mutiple faces are present this returns a list of tuple (x,y, w, h) x, y starting coords, w, h width and hieghts\n",
    "\n",
    "    for (x, y , w, h) in faces:\n",
    "        cv2.rectangle(frame, (x,y), (x+w, y+h), (255,0,0), 2)\n",
    "    \n",
    "    \n",
    "    cv2.imshow('Muaz in Gray', frame)\n",
    "\n",
    "    key_pressed = cv2.waitKey(1) & 0xFF #Bitwise and operator would work\n",
    "    if key_pressed == ord('q'):\n",
    "        break\n",
    "\n",
    "cv2.ReleaseDevice()\n",
    "cv2.CloseAllWindows()\n"
   ]
  },
  {
   "cell_type": "code",
   "execution_count": null,
   "id": "7cfa944b-4a4b-40ff-b943-956987e1609c",
   "metadata": {},
   "outputs": [],
   "source": []
  }
 ],
 "metadata": {
  "kernelspec": {
   "display_name": "Python [conda env:base] *",
   "language": "python",
   "name": "conda-base-py"
  },
  "language_info": {
   "codemirror_mode": {
    "name": "ipython",
    "version": 3
   },
   "file_extension": ".py",
   "mimetype": "text/x-python",
   "name": "python",
   "nbconvert_exporter": "python",
   "pygments_lexer": "ipython3",
   "version": "3.12.7"
  }
 },
 "nbformat": 4,
 "nbformat_minor": 5
}
