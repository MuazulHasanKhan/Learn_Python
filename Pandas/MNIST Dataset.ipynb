{
 "cells": [
  {
   "cell_type": "code",
   "execution_count": 66,
   "id": "84c4ecff-5f16-4f07-aa93-94ba212cc180",
   "metadata": {},
   "outputs": [],
   "source": [
    "import pandas as pd\n",
    "import matplotlib.pyplot as plt\n",
    "import numpy as np\n"
   ]
  },
  {
   "cell_type": "code",
   "execution_count": 8,
   "id": "e91820d9-6249-47f4-b430-8acc8c511bc8",
   "metadata": {},
   "outputs": [],
   "source": [
    "df = pd.read_csv('mnist_train.csv')"
   ]
  },
  {
   "cell_type": "code",
   "execution_count": 14,
   "id": "b8288fe3-18e6-476f-a99d-36623b3edc29",
   "metadata": {},
   "outputs": [
    {
     "data": {
      "text/html": [
       "<div>\n",
       "<style scoped>\n",
       "    .dataframe tbody tr th:only-of-type {\n",
       "        vertical-align: middle;\n",
       "    }\n",
       "\n",
       "    .dataframe tbody tr th {\n",
       "        vertical-align: top;\n",
       "    }\n",
       "\n",
       "    .dataframe thead th {\n",
       "        text-align: right;\n",
       "    }\n",
       "</style>\n",
       "<table border=\"1\" class=\"dataframe\">\n",
       "  <thead>\n",
       "    <tr style=\"text-align: right;\">\n",
       "      <th></th>\n",
       "      <th>label</th>\n",
       "      <th>pixel0</th>\n",
       "      <th>pixel1</th>\n",
       "      <th>pixel2</th>\n",
       "      <th>pixel3</th>\n",
       "      <th>pixel4</th>\n",
       "      <th>pixel5</th>\n",
       "      <th>pixel6</th>\n",
       "      <th>pixel7</th>\n",
       "      <th>pixel8</th>\n",
       "      <th>...</th>\n",
       "      <th>pixel774</th>\n",
       "      <th>pixel775</th>\n",
       "      <th>pixel776</th>\n",
       "      <th>pixel777</th>\n",
       "      <th>pixel778</th>\n",
       "      <th>pixel779</th>\n",
       "      <th>pixel780</th>\n",
       "      <th>pixel781</th>\n",
       "      <th>pixel782</th>\n",
       "      <th>pixel783</th>\n",
       "    </tr>\n",
       "  </thead>\n",
       "  <tbody>\n",
       "    <tr>\n",
       "      <th>0</th>\n",
       "      <td>1</td>\n",
       "      <td>0</td>\n",
       "      <td>0</td>\n",
       "      <td>0</td>\n",
       "      <td>0</td>\n",
       "      <td>0</td>\n",
       "      <td>0</td>\n",
       "      <td>0</td>\n",
       "      <td>0</td>\n",
       "      <td>0</td>\n",
       "      <td>...</td>\n",
       "      <td>0</td>\n",
       "      <td>0</td>\n",
       "      <td>0</td>\n",
       "      <td>0</td>\n",
       "      <td>0</td>\n",
       "      <td>0</td>\n",
       "      <td>0</td>\n",
       "      <td>0</td>\n",
       "      <td>0</td>\n",
       "      <td>0</td>\n",
       "    </tr>\n",
       "    <tr>\n",
       "      <th>1</th>\n",
       "      <td>0</td>\n",
       "      <td>0</td>\n",
       "      <td>0</td>\n",
       "      <td>0</td>\n",
       "      <td>0</td>\n",
       "      <td>0</td>\n",
       "      <td>0</td>\n",
       "      <td>0</td>\n",
       "      <td>0</td>\n",
       "      <td>0</td>\n",
       "      <td>...</td>\n",
       "      <td>0</td>\n",
       "      <td>0</td>\n",
       "      <td>0</td>\n",
       "      <td>0</td>\n",
       "      <td>0</td>\n",
       "      <td>0</td>\n",
       "      <td>0</td>\n",
       "      <td>0</td>\n",
       "      <td>0</td>\n",
       "      <td>0</td>\n",
       "    </tr>\n",
       "    <tr>\n",
       "      <th>2</th>\n",
       "      <td>1</td>\n",
       "      <td>0</td>\n",
       "      <td>0</td>\n",
       "      <td>0</td>\n",
       "      <td>0</td>\n",
       "      <td>0</td>\n",
       "      <td>0</td>\n",
       "      <td>0</td>\n",
       "      <td>0</td>\n",
       "      <td>0</td>\n",
       "      <td>...</td>\n",
       "      <td>0</td>\n",
       "      <td>0</td>\n",
       "      <td>0</td>\n",
       "      <td>0</td>\n",
       "      <td>0</td>\n",
       "      <td>0</td>\n",
       "      <td>0</td>\n",
       "      <td>0</td>\n",
       "      <td>0</td>\n",
       "      <td>0</td>\n",
       "    </tr>\n",
       "  </tbody>\n",
       "</table>\n",
       "<p>3 rows × 785 columns</p>\n",
       "</div>"
      ],
      "text/plain": [
       "   label  pixel0  pixel1  pixel2  pixel3  pixel4  pixel5  pixel6  pixel7  \\\n",
       "0      1       0       0       0       0       0       0       0       0   \n",
       "1      0       0       0       0       0       0       0       0       0   \n",
       "2      1       0       0       0       0       0       0       0       0   \n",
       "\n",
       "   pixel8  ...  pixel774  pixel775  pixel776  pixel777  pixel778  pixel779  \\\n",
       "0       0  ...         0         0         0         0         0         0   \n",
       "1       0  ...         0         0         0         0         0         0   \n",
       "2       0  ...         0         0         0         0         0         0   \n",
       "\n",
       "   pixel780  pixel781  pixel782  pixel783  \n",
       "0         0         0         0         0  \n",
       "1         0         0         0         0  \n",
       "2         0         0         0         0  \n",
       "\n",
       "[3 rows x 785 columns]"
      ]
     },
     "execution_count": 14,
     "metadata": {},
     "output_type": "execute_result"
    }
   ],
   "source": [
    "df.head(n = 3)"
   ]
  },
  {
   "cell_type": "code",
   "execution_count": 24,
   "id": "73a3941d-8324-4a76-8315-1ea698e41dad",
   "metadata": {},
   "outputs": [
    {
     "data": {
      "text/plain": [
       "array([dtype('int64')], dtype=object)"
      ]
     },
     "execution_count": 24,
     "metadata": {},
     "output_type": "execute_result"
    }
   ],
   "source": [
    "df.dtypes.unique()"
   ]
  },
  {
   "cell_type": "code",
   "execution_count": 26,
   "id": "b8ca83f9-a0b5-4f4c-90f5-bd027b103219",
   "metadata": {},
   "outputs": [
    {
     "data": {
      "text/plain": [
       "(42000, 785)"
      ]
     },
     "execution_count": 26,
     "metadata": {},
     "output_type": "execute_result"
    }
   ],
   "source": [
    "df.shape"
   ]
  },
  {
   "cell_type": "code",
   "execution_count": 28,
   "id": "cc646f33-19ad-43ea-8de7-dd83575f810c",
   "metadata": {},
   "outputs": [],
   "source": [
    "# for any machine learning task we will convert the data frame to numpy arrauy"
   ]
  },
  {
   "cell_type": "code",
   "execution_count": 32,
   "id": "e784edb9-310b-4c97-967c-9f4b656f2cd9",
   "metadata": {},
   "outputs": [],
   "source": [
    "data = df.values # This is an important attruibute in the farme"
   ]
  },
  {
   "cell_type": "code",
   "execution_count": 34,
   "id": "75d8fc14-45d6-468e-aee4-b09dcb486cc7",
   "metadata": {},
   "outputs": [
    {
     "data": {
      "text/plain": [
       "(42000, 785)"
      ]
     },
     "execution_count": 34,
     "metadata": {},
     "output_type": "execute_result"
    }
   ],
   "source": [
    "data.shape"
   ]
  },
  {
   "cell_type": "code",
   "execution_count": 36,
   "id": "d538d2e8-ae90-4e8c-993b-91e80b3071a6",
   "metadata": {},
   "outputs": [],
   "source": [
    "# objective is to separate x and y values"
   ]
  },
  {
   "cell_type": "code",
   "execution_count": 42,
   "id": "ce22249a-67e7-4598-893e-ec0bb0570506",
   "metadata": {},
   "outputs": [],
   "source": [
    "Y = data[:, 0]"
   ]
  },
  {
   "cell_type": "code",
   "execution_count": 44,
   "id": "b9bec245-a83d-49b8-b0da-bc124d0b11cd",
   "metadata": {},
   "outputs": [],
   "source": [
    "X = data[:, 1:]"
   ]
  },
  {
   "cell_type": "code",
   "execution_count": 48,
   "id": "0ae925c0-8735-46d0-bafc-3dd55a25409b",
   "metadata": {},
   "outputs": [
    {
     "data": {
      "text/plain": [
       "42000"
      ]
     },
     "execution_count": 48,
     "metadata": {},
     "output_type": "execute_result"
    }
   ],
   "source": [
    "## Try to visualize one image"
   ]
  },
  {
   "cell_type": "code",
   "execution_count": 52,
   "id": "c1af9811-4b48-4a73-b88b-2d95ee33b6db",
   "metadata": {},
   "outputs": [],
   "source": [
    "# to visualise we need to convert the the one d array to 2d array"
   ]
  },
  {
   "cell_type": "code",
   "execution_count": 84,
   "id": "4763dead-d0c9-44b3-af3f-01b336b67e81",
   "metadata": {},
   "outputs": [
    {
     "data": {
      "image/png": "[encoded data removed]",
      "text/plain": [
       "<Figure size 640x480 with 1 Axes>"
      ]
     },
     "metadata": {},
     "output_type": "display_data"
    }
   ],
   "source": [
    "def drawImg(X, Y, i):\n",
    "    plt.imshow(X[i].reshape(28, 28), cmap = 'gray')\n",
    "    plt.title('label' + str(Y[i]))\n",
    "    plt.show()\n",
    "\n",
    "drawImg(X, Y, 0)"
   ]
  },
  {
   "cell_type": "code",
   "execution_count": 88,
   "id": "b60b4b7c-59c5-4c09-8852-159d7ff865a5",
   "metadata": {},
   "outputs": [
    {
     "data": {
      "image/png": "[encoded data removed]",
      "text/plain": [
       "<Figure size 640x480 with 1 Axes>"
      ]
     },
     "metadata": {},
     "output_type": "display_data"
    },
    {
     "data": {
      "image/png": "[encoded data removed]",
      "text/plain": [
       "<Figure size 640x480 with 1 Axes>"
      ]
     },
     "metadata": {},
     "output_type": "display_data"
    },
    {
     "data": {
      "image/png": "[encoded data removed]",
      "text/plain": [
       "<Figure size 640x480 with 1 Axes>"
      ]
     },
     "metadata": {},
     "output_type": "display_data"
    },
    {
     "data": {
      "image/png": "[encoded data removed]",
      "text/plain": [
       "<Figure size 640x480 with 1 Axes>"
      ]
     },
     "metadata": {},
     "output_type": "display_data"
    },
    {
     "data": {
      "image/png": "[encoded data removed]",
      "text/plain": [
       "<Figure size 640x480 with 1 Axes>"
      ]
     },
     "metadata": {},
     "output_type": "display_data"
    }
   ],
   "source": [
    "for i in range(5):\n",
    "    drawImg(X, Y, i)\n"
   ]
  },
  {
   "cell_type": "code",
   "execution_count": 90,
   "id": "9caa43fa-2e42-4a8b-a235-a111e0affed1",
   "metadata": {},
   "outputs": [],
   "source": [
    "# We nee to split dataset into training, testing and validation"
   ]
  },
  {
   "cell_type": "code",
   "execution_count": 94,
   "id": "615de45b-3b3d-43ec-9c25-6e3d53e900f9",
   "metadata": {},
   "outputs": [
    {
     "name": "stdout",
     "output_type": "stream",
     "text": [
      "33600\n"
     ]
    }
   ],
   "source": [
    "## Split this dataset\n",
    "\n",
    "split = int(0.80*X.shape[0])\n",
    "print(split)"
   ]
  },
  {
   "cell_type": "code",
   "execution_count": 98,
   "id": "ef2147ab-3d10-4e83-a933-f74364aad678",
   "metadata": {},
   "outputs": [],
   "source": [
    "X_train, Y_train = X[: split, :], Y[:split]\n",
    "X_test, Y_test = X[split: , ], Y[split:]"
   ]
  },
  {
   "cell_type": "code",
   "execution_count": 100,
   "id": "6678efad-deef-4bca-b5e8-652f8279e318",
   "metadata": {},
   "outputs": [],
   "source": [
    "# Now there might be cases when the the imput data is not uniformly shuffled, to do that we use np.random shuffle"
   ]
  },
  {
   "cell_type": "code",
   "execution_count": 140,
   "id": "11ed58d8-3e00-4c42-b167-29dc84c3fdb7",
   "metadata": {},
   "outputs": [],
   "source": [
    "a = np.random.rand(5,5)"
   ]
  },
  {
   "cell_type": "code",
   "execution_count": 144,
   "id": "60ea5336-d5d3-4a90-89d7-0035c4a0eefb",
   "metadata": {},
   "outputs": [],
   "source": [
    "np.random.shuffle(a)"
   ]
  },
  {
   "cell_type": "code",
   "execution_count": 146,
   "id": "abfc77db-1892-4eac-b7cb-0053f6737fae",
   "metadata": {},
   "outputs": [
    {
     "data": {
      "text/plain": [
       "array([[0.59396491, 0.20567858, 0.2936689 , 0.71146477, 0.68624014],\n",
       "       [0.33348641, 0.49166531, 0.32562706, 0.97467009, 0.23567313],\n",
       "       [0.09580371, 0.34136185, 0.23779894, 0.66823825, 0.17299069],\n",
       "       [0.49926393, 0.84824696, 0.2673794 , 0.39532716, 0.66696096],\n",
       "       [0.7555903 , 0.37088441, 0.60290578, 0.05857337, 0.18428009]])"
      ]
     },
     "execution_count": 146,
     "metadata": {},
     "output_type": "execute_result"
    }
   ],
   "source": [
    "a"
   ]
  },
  {
   "cell_type": "code",
   "execution_count": 156,
   "id": "75bf3dd4-d4fe-4b21-ab12-e3f1544691ea",
   "metadata": {},
   "outputs": [],
   "source": [
    "np.random.shuffle(a)"
   ]
  },
  {
   "cell_type": "code",
   "execution_count": 158,
   "id": "9f575f92-4429-4c0f-845f-dbf8d53afd74",
   "metadata": {},
   "outputs": [
    {
     "data": {
      "text/plain": [
       "array([[0.59396491, 0.20567858, 0.2936689 , 0.71146477, 0.68624014],\n",
       "       [0.49926393, 0.84824696, 0.2673794 , 0.39532716, 0.66696096],\n",
       "       [0.09580371, 0.34136185, 0.23779894, 0.66823825, 0.17299069],\n",
       "       [0.7555903 , 0.37088441, 0.60290578, 0.05857337, 0.18428009],\n",
       "       [0.33348641, 0.49166531, 0.32562706, 0.97467009, 0.23567313]])"
      ]
     },
     "execution_count": 158,
     "metadata": {},
     "output_type": "execute_result"
    }
   ],
   "source": [
    "a"
   ]
  },
  {
   "cell_type": "code",
   "execution_count": 160,
   "id": "4b58ac09-4fc5-4ef2-bf6c-24f344fcccd4",
   "metadata": {},
   "outputs": [],
   "source": [
    "# We will make a 5*5 grid that will make up the images"
   ]
  },
  {
   "cell_type": "code",
   "execution_count": 162,
   "id": "d3883962-ed72-4bd5-8973-88fca6385dcf",
   "metadata": {},
   "outputs": [],
   "source": [
    "# In matplot we have a concept of subplotting"
   ]
  },
  {
   "cell_type": "code",
   "execution_count": 166,
   "id": "58da4d81-fdc2-4955-83d4-0ccc2667d9a9",
   "metadata": {},
   "outputs": [
    {
     "data": {
      "text/plain": [
       "<Axes: >"
      ]
     },
     "execution_count": 166,
     "metadata": {},
     "output_type": "execute_result"
    },
    {
     "data": {
      "image/png": "[encoded data removed]",
      "text/plain": [
       "<Figure size 640x480 with 1 Axes>"
      ]
     },
     "metadata": {},
     "output_type": "display_data"
    }
   ],
   "source": [
    "plt.subplot(2, 3, 1) # 2rows, 3 columns, 1 is the position in the plot"
   ]
  },
  {
   "cell_type": "code",
   "execution_count": 180,
   "id": "1f02ed57-bbc2-4a25-a3b6-b2c1b5cae8cb",
   "metadata": {},
   "outputs": [
    {
     "data": {
      "image/png": "[encoded data removed]",
      "text/plain": [
       "<Figure size 1000x1000 with 25 Axes>"
      ]
     },
     "metadata": {},
     "output_type": "display_data"
    }
   ],
   "source": [
    "plt.figure(figsize = (10, 10))\n",
    "for i in range(25):\n",
    "    plt.subplot(5, 5, i+1)\n",
    "    plt.imshow(X_train[i].reshape(28,28))\n",
    "    plt.title(Y[i])\n",
    "    plt.axis('off')\n",
    "\n",
    "plt.show()"
   ]
  },
  {
   "cell_type": "code",
   "execution_count": 182,
   "id": "ed24d7f9-481a-4fa0-b8f9-5cfc32ea0cba",
   "metadata": {},
   "outputs": [],
   "source": [
    "from sklearn.model_selection import train_test_split"
   ]
  },
  {
   "cell_type": "code",
   "execution_count": 184,
   "id": "1225e559-4bc3-4be8-8312-e6ec7a9a7886",
   "metadata": {},
   "outputs": [
    {
     "name": "stdout",
     "output_type": "stream",
     "text": [
      "(33600, 784) (33600,)\n",
      "(8400, 784) (8400,)\n"
     ]
    }
   ],
   "source": [
    "XT,Xt, YT, Yt = train_test_split(X, Y, test_size = 0.2, random_state = 5)\n",
    "print(XT.shape, YT.shape)\n",
    "print(Xt.shape, Yt.shape)"
   ]
  },
  {
   "cell_type": "code",
   "execution_count": null,
   "id": "ed569070-556c-4bb3-a139-d7b57c958c18",
   "metadata": {},
   "outputs": [],
   "source": []
  }
 ],
 "metadata": {
  "kernelspec": {
   "display_name": "Python [conda env:base] *",
   "language": "python",
   "name": "conda-base-py"
  },
  "language_info": {
   "codemirror_mode": {
    "name": "ipython",
    "version": 3
   },
   "file_extension": ".py",
   "mimetype": "text/x-python",
   "name": "python",
   "nbconvert_exporter": "python",
   "pygments_lexer": "ipython3",
   "version": "3.12.7"
  }
 },
 "nbformat": 4,
 "nbformat_minor": 5
}
