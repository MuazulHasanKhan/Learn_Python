{
 "cells": [
  {
   "cell_type": "code",
   "execution_count": 2,
   "id": "dddfe900-af6a-44a8-b48b-bcb616f7e4c0",
   "metadata": {},
   "outputs": [],
   "source": [
    "a = 10\n",
    "print(a*5)\n",
    "\n",
    "def show():\n",
    "    pass\n",
    "\n",
    "show()\n",
    "show()\n",
    "show()\n"
   ]
  },
  {
   "cell_type": "code",
   "execution_count": 4,
   "id": "34c65845-868a-43f9-800d-7180ab463ee4",
   "metadata": {},
   "outputs": [
    {
     "name": "stdout",
     "output_type": "stream",
     "text": [
      "50\n"
     ]
    }
   ],
   "source": [
    "#Example web browser handles with multiple requests parallely"
   ]
  },
  {
   "cell_type": "code",
   "execution_count": 6,
   "id": "07f4c450-17e5-4d9a-acd2-b4da4a035239",
   "metadata": {},
   "outputs": [],
   "source": [
    "# Multi Threading"
   ]
  },
  {
   "cell_type": "code",
   "execution_count": 8,
   "id": "5f3bc8cc-863f-4d72-bfd7-0ed246c57410",
   "metadata": {},
   "outputs": [],
   "source": [
    "#Couroutines: python function will give context to some other functio"
   ]
  },
  {
   "cell_type": "code",
   "execution_count": 14,
   "id": "789be42f-6d08-443c-b282-9369f8bc8ae3",
   "metadata": {},
   "outputs": [],
   "source": [
    "#Coroutines\n",
    "\n",
    "def func2():\n",
    "    return 5\n",
    "def fun():\n",
    "    yield func2()\n",
    "def main():\n",
    "    pass"
   ]
  },
  {
   "cell_type": "code",
   "execution_count": null,
   "id": "2f8108fb-5934-4065-9656-f11a68538bb9",
   "metadata": {},
   "outputs": [],
   "source": []
  }
 ],
 "metadata": {
  "kernelspec": {
   "display_name": "Python [conda env:base] *",
   "language": "python",
   "name": "conda-base-py"
  },
  "language_info": {
   "codemirror_mode": {
    "name": "ipython",
    "version": 3
   },
   "file_extension": ".py",
   "mimetype": "text/x-python",
   "name": "python",
   "nbconvert_exporter": "python",
   "pygments_lexer": "ipython3",
   "version": "3.12.7"
  }
 },
 "nbformat": 4,
 "nbformat_minor": 5
}
