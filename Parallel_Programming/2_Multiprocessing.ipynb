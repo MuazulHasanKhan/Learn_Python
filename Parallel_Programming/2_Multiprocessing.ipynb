{
 "cells": [
  {
   "cell_type": "code",
   "execution_count": 33,
   "id": "3144d24c-f992-4569-a2fb-61039cc4498a",
   "metadata": {},
   "outputs": [],
   "source": [
    "from multiprocessing import Process"
   ]
  },
  {
   "cell_type": "code",
   "execution_count": 80,
   "id": "23e36dbe-a449-458a-ae95-4e0e51506fba",
   "metadata": {},
   "outputs": [],
   "source": [
    "def showSquare():\n",
    "    print(2)"
   ]
  },
  {
   "cell_type": "code",
   "execution_count": 82,
   "id": "7ac34e6c-ce49-4d23-b1ed-d204196df5b7",
   "metadata": {},
   "outputs": [],
   "source": [
    "procs = []"
   ]
  },
  {
   "cell_type": "code",
   "execution_count": 84,
   "id": "b1395952-7e12-42cc-af88-beef70c7f89c",
   "metadata": {},
   "outputs": [],
   "source": [
    "for i in range(5):\n",
    "    procs.append(Process(target = showSquare))\n",
    "# Target would be the function we want to execute"
   ]
  },
  {
   "cell_type": "code",
   "execution_count": 86,
   "id": "07c3d448-c30d-41b7-ae00-61d43e8b37a3",
   "metadata": {},
   "outputs": [
    {
     "name": "stdout",
     "output_type": "stream",
     "text": [
      "hello\n"
     ]
    }
   ],
   "source": [
    "for proc in procs:\n",
    "    proc.start()\n",
    "print('hello')"
   ]
  },
  {
   "cell_type": "code",
   "execution_count": 56,
   "id": "36dd7e0c-d069-4080-9093-0f5e7b69473b",
   "metadata": {},
   "outputs": [],
   "source": [
    "for proc in procs:\n",
    "    proc.join()"
   ]
  },
  {
   "cell_type": "code",
   "execution_count": null,
   "id": "47f82102-1ace-4e4b-b03a-6011bf63ca31",
   "metadata": {},
   "outputs": [],
   "source": []
  }
 ],
 "metadata": {
  "kernelspec": {
   "display_name": "Python [conda env:base] *",
   "language": "python",
   "name": "conda-base-py"
  },
  "language_info": {
   "codemirror_mode": {
    "name": "ipython",
    "version": 3
   },
   "file_extension": ".py",
   "mimetype": "text/x-python",
   "name": "python",
   "nbconvert_exporter": "python",
   "pygments_lexer": "ipython3",
   "version": "3.12.7"
  }
 },
 "nbformat": 4,
 "nbformat_minor": 5
}
