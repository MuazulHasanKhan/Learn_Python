{
 "cells": [
  {
   "cell_type": "code",
   "execution_count": 4,
   "id": "1e320e61-f401-4187-842c-a6d97b8f197f",
   "metadata": {},
   "outputs": [],
   "source": [
    "from threading import Thread\n"
   ]
  },
  {
   "cell_type": "code",
   "execution_count": 14,
   "id": "d8be2e79-9b5c-4573-8997-471147fd5bd8",
   "metadata": {},
   "outputs": [],
   "source": [
    "def square(n):\n",
    "    print('square is', n**2)\n",
    "def cube(n):\n",
    "    print('cube is', n**3)"
   ]
  },
  {
   "cell_type": "code",
   "execution_count": 16,
   "id": "79d9df73-623d-4aae-ad93-7c7cd7ffb465",
   "metadata": {},
   "outputs": [],
   "source": [
    "t1 = Thread(target = square, args = (3, ))\n",
    "t2 = Thread(target = cube, args = (3,))"
   ]
  },
  {
   "cell_type": "code",
   "execution_count": 18,
   "id": "9af3235e-ec34-410f-add7-cdc1907f3c9f",
   "metadata": {},
   "outputs": [
    {
     "name": "stdout",
     "output_type": "stream",
     "text": [
      "square is 9\n",
      "cube is 27\n",
      "hello\n"
     ]
    }
   ],
   "source": [
    "t1.start()\n",
    "t2.start()\n",
    "print('hello')"
   ]
  },
  {
   "cell_type": "code",
   "execution_count": 20,
   "id": "ec30d48c-4da1-4b16-8a93-a106ae62af14",
   "metadata": {},
   "outputs": [],
   "source": [
    "t1.join()"
   ]
  },
  {
   "cell_type": "code",
   "execution_count": 22,
   "id": "ca47d4ee-dee7-4d99-88b0-d715b8e709dd",
   "metadata": {},
   "outputs": [],
   "source": [
    "t2.join()"
   ]
  },
  {
   "cell_type": "code",
   "execution_count": 26,
   "id": "e35c96c3-2b56-40cc-9ea0-99e91d707c61",
   "metadata": {},
   "outputs": [],
   "source": [
    "from queue import Queue\n",
    "# Both the threads running try to access the same RAM and to make sure they dont\n",
    "# they dont try to write the same block we need to have something to ensure mutual exclusion"
   ]
  },
  {
   "cell_type": "code",
   "execution_count": 56,
   "id": "8e49fd39-1869-4580-bb37-301677279324",
   "metadata": {},
   "outputs": [],
   "source": [
    "def producer(q):\n",
    "    for i in range(5):\n",
    "        q.put(i)\n",
    "        print('published', i)\n",
    "def consumer(q):\n",
    "    while True:\n",
    "        data = q.get()\n",
    "        print('consumed', data)\n"
   ]
  },
  {
   "cell_type": "code",
   "execution_count": 58,
   "id": "15bda25a-4f24-43b7-97af-8873c1ad7e40",
   "metadata": {},
   "outputs": [],
   "source": [
    "q = Queue()\n"
   ]
  },
  {
   "cell_type": "code",
   "execution_count": 60,
   "id": "3fa5b828-bbf1-43a3-80b1-36fda2f70d2e",
   "metadata": {},
   "outputs": [],
   "source": [
    "producer_thread = Thread(target = producer, args = (q, ))\n",
    "consumer_thread = Thread(target = consumer, args = (q, ))"
   ]
  },
  {
   "cell_type": "code",
   "execution_count": 62,
   "id": "2c3264a9-ea9c-4af5-aa0f-b13bb9a2ea05",
   "metadata": {},
   "outputs": [],
   "source": [
    "consumer_thread.start()"
   ]
  },
  {
   "cell_type": "code",
   "execution_count": 64,
   "id": "5d284f08-4c5f-4b0f-b8d8-5aca90be14bd",
   "metadata": {},
   "outputs": [
    {
     "name": "stdout",
     "output_type": "stream",
     "text": [
      "publishedconsumed 0\n",
      " 0\n",
      "published 1\n",
      "published 2\n",
      "published 3\n",
      "published 4\n",
      "consumed 1\n",
      "consumed 2\n",
      "consumed 3\n",
      "consumed 4\n"
     ]
    }
   ],
   "source": [
    "producer_thread.start()"
   ]
  },
  {
   "cell_type": "code",
   "execution_count": 66,
   "id": "ac73cada-df47-4fee-8e5d-af3ec88478c8",
   "metadata": {},
   "outputs": [],
   "source": [
    "producer_thread.join()"
   ]
  },
  {
   "cell_type": "code",
   "execution_count": null,
   "id": "56b76f1c-7f4b-43f2-bf05-26058f065f10",
   "metadata": {},
   "outputs": [],
   "source": [
    "consumer_thread.join()"
   ]
  },
  {
   "cell_type": "code",
   "execution_count": null,
   "id": "9afd89dd-9dcb-45a0-9f9e-acf3337bb894",
   "metadata": {},
   "outputs": [],
   "source": []
  }
 ],
 "metadata": {
  "kernelspec": {
   "display_name": "Python [conda env:base] *",
   "language": "python",
   "name": "conda-base-py"
  },
  "language_info": {
   "codemirror_mode": {
    "name": "ipython",
    "version": 3
   },
   "file_extension": ".py",
   "mimetype": "text/x-python",
   "name": "python",
   "nbconvert_exporter": "python",
   "pygments_lexer": "ipython3",
   "version": "3.12.7"
  }
 },
 "nbformat": 4,
 "nbformat_minor": 5
}
