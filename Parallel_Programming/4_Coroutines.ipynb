{
 "cells": [
  {
   "cell_type": "code",
   "execution_count": 2,
   "id": "a846019e-2099-4e44-bbc4-434acb5059cf",
   "metadata": {},
   "outputs": [],
   "source": [
    "# Coroutines function use yield\n",
    "# In case of generat"
   ]
  },
  {
   "cell_type": "code",
   "execution_count": 4,
   "id": "dad90a6a-bb2b-436e-bff2-7bce0882a28c",
   "metadata": {},
   "outputs": [],
   "source": [
    "# yield also consumes data"
   ]
  },
  {
   "cell_type": "code",
   "execution_count": 6,
   "id": "9c9e4c29-7c5b-4494-b270-4079236d2813",
   "metadata": {},
   "outputs": [
    {
     "ename": "SyntaxError",
     "evalue": "incomplete input (1437788229.py, line 1)",
     "output_type": "error",
     "traceback": [
      "\u001b[0;36m  Cell \u001b[0;32mIn[6], line 1\u001b[0;36m\u001b[0m\n\u001b[0;31m    def print_fancy_name():\u001b[0m\n\u001b[0m                           ^\u001b[0m\n\u001b[0;31mSyntaxError\u001b[0m\u001b[0;31m:\u001b[0m incomplete input\n"
     ]
    }
   ],
   "source": [
    "def print_fancy_name():\n",
    "    while True:\n",
    "        name = \n",
    "    "
   ]
  },
  {
   "cell_type": "code",
   "execution_count": 8,
   "id": "be90242c-e4d8-4851-bd9d-6417b7527e04",
   "metadata": {},
   "outputs": [],
   "source": [
    "# revising the use of yield in generator functions\n",
    "\n",
    "def count_up_to(n):\n",
    "    i = 1\n",
    "    while i<=n:\n",
    "        yield i\n",
    "        i += 1"
   ]
  },
  {
   "cell_type": "code",
   "execution_count": 12,
   "id": "fac17258-d013-4a8b-b57e-1eaa5fcda9d1",
   "metadata": {},
   "outputs": [],
   "source": [
    "generator = count_up_to(6)"
   ]
  },
  {
   "cell_type": "code",
   "execution_count": 25,
   "id": "c05e4546-b11a-4957-a1ce-577484afe8b9",
   "metadata": {},
   "outputs": [
    {
     "data": {
      "text/plain": [
       "6"
      ]
     },
     "execution_count": 25,
     "metadata": {},
     "output_type": "execute_result"
    }
   ],
   "source": [
    "next(generator)"
   ]
  },
  {
   "cell_type": "code",
   "execution_count": 61,
   "id": "23440c3c-2cab-45a8-b1f6-687a5548c2a8",
   "metadata": {},
   "outputs": [],
   "source": [
    "# Coroutine Use case\n",
    "def my_coroutine():\n",
    "    print('Coroutine Started')\n",
    "    try:\n",
    "        x = yield\n",
    "        print(f\"Received: {x}\")\n",
    "    except Exception as e:\n",
    "        print('hi')"
   ]
  },
  {
   "cell_type": "code",
   "execution_count": 63,
   "id": "688cf4b8-fe12-4258-a30a-1fe865bb8bbd",
   "metadata": {},
   "outputs": [
    {
     "name": "stdout",
     "output_type": "stream",
     "text": [
      "Coroutine Started\n",
      "Received: 42\n",
      "Done\n"
     ]
    }
   ],
   "source": [
    "coro = my_coroutine()\n",
    "next(coro)\n",
    "try:\n",
    "    coro.send(42)\n",
    "except Exception as e:\n",
    "    print('Done')"
   ]
  },
  {
   "cell_type": "code",
   "execution_count": 49,
   "id": "5e2845a2-bdbd-426b-a77b-f9b47460db12",
   "metadata": {},
   "outputs": [],
   "source": [
    "def print_fancy_name(prefix):\n",
    "    try:\n",
    "        while True:\n",
    "            name = (yield)\n",
    "            print(prefix + ':' + name)\n",
    "    except GeneratorExit:\n",
    "        print('Done')"
   ]
  },
  {
   "cell_type": "code",
   "execution_count": 51,
   "id": "1545ce87-7fd5-49d5-84a6-2a83e1761058",
   "metadata": {},
   "outputs": [],
   "source": [
    "co = print_fancy_name('Cool')"
   ]
  },
  {
   "cell_type": "markdown",
   "id": "487b9105-da2c-4de1-a64b-765af899a772",
   "metadata": {},
   "source": [
    "Initialisation\n"
   ]
  },
  {
   "cell_type": "code",
   "execution_count": 53,
   "id": "daddd700-493b-443b-bdd1-5623ee12f2e7",
   "metadata": {},
   "outputs": [],
   "source": [
    "next(co)"
   ]
  },
  {
   "cell_type": "code",
   "execution_count": 55,
   "id": "03826f0d-765d-41a2-a0bc-d5e13f1bc034",
   "metadata": {},
   "outputs": [
    {
     "name": "stdout",
     "output_type": "stream",
     "text": [
      "Cool:Muaz\n"
     ]
    }
   ],
   "source": [
    "co.send('Muaz')"
   ]
  },
  {
   "cell_type": "code",
   "execution_count": 59,
   "id": "113bae23-9ce7-4211-aff2-9a792f694f1e",
   "metadata": {},
   "outputs": [
    {
     "name": "stdout",
     "output_type": "stream",
     "text": [
      "Done\n"
     ]
    }
   ],
   "source": [
    "co.close() # always remember to close the coroutine"
   ]
  },
  {
   "cell_type": "code",
   "execution_count": null,
   "id": "400f6c0b-1161-41c1-8c96-abb91ebddaa9",
   "metadata": {},
   "outputs": [],
   "source": []
  }
 ],
 "metadata": {
  "kernelspec": {
   "display_name": "Python [conda env:base] *",
   "language": "python",
   "name": "conda-base-py"
  },
  "language_info": {
   "codemirror_mode": {
    "name": "ipython",
    "version": 3
   },
   "file_extension": ".py",
   "mimetype": "text/x-python",
   "name": "python",
   "nbconvert_exporter": "python",
   "pygments_lexer": "ipython3",
   "version": "3.12.7"
  }
 },
 "nbformat": 4,
 "nbformat_minor": 5
}
