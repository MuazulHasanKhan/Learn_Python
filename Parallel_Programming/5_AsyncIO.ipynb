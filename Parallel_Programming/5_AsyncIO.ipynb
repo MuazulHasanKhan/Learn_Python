{
 "cells": [
  {
   "cell_type": "code",
   "execution_count": 2,
   "id": "410c795a-8a06-4cfa-931e-bac8200febca",
   "metadata": {},
   "outputs": [],
   "source": [
    "import time"
   ]
  },
  {
   "cell_type": "code",
   "execution_count": 39,
   "id": "470eee35-8446-49d6-90a3-0aa9dcdeb306",
   "metadata": {},
   "outputs": [],
   "source": [
    "def print_fancy_name(prefix):\n",
    "    try:\n",
    "        while True:\n",
    "            time.sleep(2)\n",
    "            name = (yield)\n",
    "            print(prefix + ':' + name)\n",
    "    except GeneratorExit:\n",
    "        print('Done!')"
   ]
  },
  {
   "cell_type": "code",
   "execution_count": 41,
   "id": "fcc00aa5-f18d-4920-831e-6ebce4778be0",
   "metadata": {},
   "outputs": [],
   "source": [
    "co = print_fancy_name('Cool')"
   ]
  },
  {
   "cell_type": "markdown",
   "id": "42c04343-4480-4f25-8b65-262ea857e8f6",
   "metadata": {},
   "source": [
    "Initialisation"
   ]
  },
  {
   "cell_type": "code",
   "execution_count": 44,
   "id": "bb42d542-2fa5-4886-b770-65db37d2706a",
   "metadata": {},
   "outputs": [],
   "source": [
    "next(co)"
   ]
  },
  {
   "cell_type": "markdown",
   "id": "dc348624-74c4-41b5-a9ce-e0d8b7b17bfc",
   "metadata": {},
   "source": [
    "Sending Data and control"
   ]
  },
  {
   "cell_type": "code",
   "execution_count": 46,
   "id": "e84f5f14-4680-4d76-a569-21eeb250be0e",
   "metadata": {},
   "outputs": [
    {
     "name": "stdout",
     "output_type": "stream",
     "text": [
      "Cool:jatin\n",
      "Hello\n"
     ]
    }
   ],
   "source": [
    "co.send('jatin')\n",
    "print('Hello')"
   ]
  },
  {
   "cell_type": "code",
   "execution_count": 14,
   "id": "a67a4880-25e3-47ae-838e-a981b82ffc9f",
   "metadata": {},
   "outputs": [],
   "source": [
    "next(co)"
   ]
  },
  {
   "cell_type": "code",
   "execution_count": 49,
   "id": "80155826-e402-4199-9e0c-857fb92cfcbb",
   "metadata": {},
   "outputs": [],
   "source": [
    "# We have a library async io that manages all the asynchronous programming tasks"
   ]
  },
  {
   "cell_type": "markdown",
   "id": "9ad2bf10-3bf7-4c5d-94e2-10649304c3e7",
   "metadata": {},
   "source": [
    "Async Io"
   ]
  },
  {
   "cell_type": "code",
   "execution_count": 9,
   "id": "8dc8fd84-7f18-43ba-84b5-7d4c9f76067e",
   "metadata": {},
   "outputs": [],
   "source": [
    "import asyncio"
   ]
  },
  {
   "cell_type": "code",
   "execution_count": 58,
   "id": "ff7a0795-9b7f-416c-aeb7-f31d27f3d782",
   "metadata": {},
   "outputs": [],
   "source": [
    "def main():\n",
    "    print('Hello World')"
   ]
  },
  {
   "cell_type": "code",
   "execution_count": 60,
   "id": "03637fe5-1503-4d88-b70a-3ff67e5a5bea",
   "metadata": {},
   "outputs": [
    {
     "name": "stdout",
     "output_type": "stream",
     "text": [
      "Hello World\n"
     ]
    }
   ],
   "source": [
    "if __name__ == '__main__':\n",
    "    main()\n",
    "    "
   ]
  },
  {
   "cell_type": "code",
   "execution_count": 62,
   "id": "9f071ecd-c3db-439d-91de-38c16485e4b1",
   "metadata": {},
   "outputs": [],
   "source": [
    "# Creating coroutine using AsyncIO"
   ]
  },
  {
   "cell_type": "code",
   "execution_count": 15,
   "id": "7866f850-c899-431d-b485-d2778ce2d990",
   "metadata": {},
   "outputs": [],
   "source": [
    "async def main():\n",
    "    print('Hello World')"
   ]
  },
  {
   "cell_type": "code",
   "execution_count": 21,
   "id": "dcba4535-0701-4cb4-b709-8cf5cec07d29",
   "metadata": {},
   "outputs": [
    {
     "name": "stdout",
     "output_type": "stream",
     "text": [
      "<class 'coroutine'>\n"
     ]
    },
    {
     "name": "stderr",
     "output_type": "stream",
     "text": [
      "/var/folders/l0/pnhclb4s2fl_n5xpymwnh_j00000gn/T/ipykernel_34900/1471426791.py:2: RuntimeWarning: coroutine 'main' was never awaited\n",
      "  print(type(main()))\n",
      "RuntimeWarning: Enable tracemalloc to get the object allocation traceback\n"
     ]
    }
   ],
   "source": [
    "if __name__ == '__main__':\n",
    "    print(type(main()))"
   ]
  },
  {
   "cell_type": "code",
   "execution_count": 23,
   "id": "1303a676-38dd-4ab2-87fa-258fc473ffe1",
   "metadata": {},
   "outputs": [],
   "source": [
    "import asyncio\n",
    "import time"
   ]
  },
  {
   "cell_type": "code",
   "execution_count": 25,
   "id": "b0fed973-52ee-4ff3-b15f-2cd598f1f96d",
   "metadata": {},
   "outputs": [],
   "source": [
    "async def waiter(n):\n",
    "    await asyncio.sleep(n)\n",
    "    print(f'waited for {n} seconds')"
   ]
  },
  {
   "cell_type": "code",
   "execution_count": 27,
   "id": "69ae3930-8cc1-4da5-8a37-ac11c5da74d5",
   "metadata": {},
   "outputs": [],
   "source": [
    "async def main():\n",
    "    # Event loop\n",
    "    # As soon as we create these tasks the are queued in the event loop\n",
    "    task1 = asyncio.create_task(waiter(2))\n",
    "    task2 = asyncio.create_task(waiter(3))\n",
    "\n",
    "    print(time.strftime('%X'))\n",
    "    await task1\n",
    "    await task2\n",
    "    print(time.strftime('%X'))"
   ]
  },
  {
   "cell_type": "code",
   "execution_count": 29,
   "id": "061881f7-d2af-45eb-a3a1-b47af9083b21",
   "metadata": {},
   "outputs": [
    {
     "ename": "RuntimeError",
     "evalue": "asyncio.run() cannot be called from a running event loop",
     "output_type": "error",
     "traceback": [
      "\u001b[0;31m---------------------------------------------------------------------------\u001b[0m",
      "\u001b[0;31mRuntimeError\u001b[0m                              Traceback (most recent call last)",
      "Cell \u001b[0;32mIn[29], line 2\u001b[0m\n\u001b[1;32m      1\u001b[0m \u001b[38;5;28;01mif\u001b[39;00m \u001b[38;5;18m__name__\u001b[39m \u001b[38;5;241m==\u001b[39m \u001b[38;5;124m'\u001b[39m\u001b[38;5;124m__main__\u001b[39m\u001b[38;5;124m'\u001b[39m:\n\u001b[0;32m----> 2\u001b[0m     asyncio\u001b[38;5;241m.\u001b[39mrun(main())\n",
      "File \u001b[0;32m/opt/anaconda3/lib/python3.12/asyncio/runners.py:190\u001b[0m, in \u001b[0;36mrun\u001b[0;34m(main, debug, loop_factory)\u001b[0m\n\u001b[1;32m    161\u001b[0m \u001b[38;5;250m\u001b[39m\u001b[38;5;124;03m\"\"\"Execute the coroutine and return the result.\u001b[39;00m\n\u001b[1;32m    162\u001b[0m \n\u001b[1;32m    163\u001b[0m \u001b[38;5;124;03mThis function runs the passed coroutine, taking care of\u001b[39;00m\n\u001b[0;32m   (...)\u001b[0m\n\u001b[1;32m    186\u001b[0m \u001b[38;5;124;03m    asyncio.run(main())\u001b[39;00m\n\u001b[1;32m    187\u001b[0m \u001b[38;5;124;03m\"\"\"\u001b[39;00m\n\u001b[1;32m    188\u001b[0m \u001b[38;5;28;01mif\u001b[39;00m events\u001b[38;5;241m.\u001b[39m_get_running_loop() \u001b[38;5;129;01mis\u001b[39;00m \u001b[38;5;129;01mnot\u001b[39;00m \u001b[38;5;28;01mNone\u001b[39;00m:\n\u001b[1;32m    189\u001b[0m     \u001b[38;5;66;03m# fail fast with short traceback\u001b[39;00m\n\u001b[0;32m--> 190\u001b[0m     \u001b[38;5;28;01mraise\u001b[39;00m \u001b[38;5;167;01mRuntimeError\u001b[39;00m(\n\u001b[1;32m    191\u001b[0m         \u001b[38;5;124m\"\u001b[39m\u001b[38;5;124masyncio.run() cannot be called from a running event loop\u001b[39m\u001b[38;5;124m\"\u001b[39m)\n\u001b[1;32m    193\u001b[0m \u001b[38;5;28;01mwith\u001b[39;00m Runner(debug\u001b[38;5;241m=\u001b[39mdebug, loop_factory\u001b[38;5;241m=\u001b[39mloop_factory) \u001b[38;5;28;01mas\u001b[39;00m runner:\n\u001b[1;32m    194\u001b[0m     \u001b[38;5;28;01mreturn\u001b[39;00m runner\u001b[38;5;241m.\u001b[39mrun(main)\n",
      "\u001b[0;31mRuntimeError\u001b[0m: asyncio.run() cannot be called from a running event loop"
     ]
    }
   ],
   "source": [
    "if __name__ == '__main__':\n",
    "    asyncio.run(main())\n",
    "    "
   ]
  },
  {
   "cell_type": "code",
   "execution_count": null,
   "id": "657e9227-ac52-4654-8c6d-43511c9748fe",
   "metadata": {},
   "outputs": [],
   "source": []
  }
 ],
 "metadata": {
  "kernelspec": {
   "display_name": "Python [conda env:base] *",
   "language": "python",
   "name": "conda-base-py"
  },
  "language_info": {
   "codemirror_mode": {
    "name": "ipython",
    "version": 3
   },
   "file_extension": ".py",
   "mimetype": "text/x-python",
   "name": "python",
   "nbconvert_exporter": "python",
   "pygments_lexer": "ipython3",
   "version": "3.12.7"
  }
 },
 "nbformat": 4,
 "nbformat_minor": 5
}
