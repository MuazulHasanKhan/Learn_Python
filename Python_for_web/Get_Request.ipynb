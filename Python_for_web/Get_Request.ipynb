{
 "cells": [
  {
   "cell_type": "code",
   "execution_count": 1,
   "id": "8dc85444-770d-4ee0-a7a0-1ed642db079f",
   "metadata": {},
   "outputs": [],
   "source": [
    "# Working with web APIs\n",
    "#What is API?\n",
    "#Api is a set of routines protocols, and tools for building software application. An API specifies how software components should connect\n",
    "# What is a web API?\n",
    "# Web API is a framework for building HTTP services that can be consumed by a broad range of clients including browsers,  "
   ]
  },
  {
   "cell_type": "code",
   "execution_count": 3,
   "id": "afe73b4b-7e4a-4661-a396-0869f81a3594",
   "metadata": {},
   "outputs": [],
   "source": [
    "# Different types of requests\n",
    "\n",
    "#GET\n",
    "#POST\n",
    "#DELETE\n",
    "#PUT\n",
    "#PATCH"
   ]
  },
  {
   "cell_type": "code",
   "execution_count": 5,
   "id": "5e392d43-8788-41ea-a051-3cb1a132971e",
   "metadata": {},
   "outputs": [],
   "source": [
    "# To handle all this we have a request library in python"
   ]
  },
  {
   "cell_type": "code",
   "execution_count": 7,
   "id": "556a1ac8-0038-47f8-bfe2-9602a7fa01f9",
   "metadata": {},
   "outputs": [],
   "source": [
    "import requests\n"
   ]
  },
  {
   "cell_type": "code",
   "execution_count": 23,
   "id": "f7c0faa4-0278-469b-a565-f4ac7823a326",
   "metadata": {},
   "outputs": [],
   "source": [
    "facebook_id = 7"
   ]
  },
  {
   "cell_type": "code",
   "execution_count": 25,
   "id": "ae330c81-f130-455f-8a83-d6e12d768812",
   "metadata": {},
   "outputs": [],
   "source": [
    "url = \"http://graph.facebook.com/{}/picture?type = large\".format(facebook_id)"
   ]
  },
  {
   "cell_type": "code",
   "execution_count": 27,
   "id": "293abbd2-9a1e-475f-9ea6-cfd326bfe4b3",
   "metadata": {},
   "outputs": [
    {
     "data": {
      "text/plain": [
       "'http://graph.facebook.com/7/picture?type = large'"
      ]
     },
     "execution_count": 27,
     "metadata": {},
     "output_type": "execute_result"
    }
   ],
   "source": [
    "url"
   ]
  },
  {
   "cell_type": "code",
   "execution_count": 29,
   "id": "6f965727-4a31-4617-80a2-4ec758e49e5e",
   "metadata": {},
   "outputs": [],
   "source": [
    "r = requests.get(url)"
   ]
  },
  {
   "cell_type": "code",
   "execution_count": 15,
   "id": "8711e575-b027-496d-9d39-3adba2160b60",
   "metadata": {},
   "outputs": [
    {
     "data": {
      "text/plain": [
       "requests.models.Response"
      ]
     },
     "execution_count": 15,
     "metadata": {},
     "output_type": "execute_result"
    }
   ],
   "source": [
    "type(r)"
   ]
  },
  {
   "cell_type": "code",
   "execution_count": 17,
   "id": "07541b24-e571-4473-aa20-142c6d527de4",
   "metadata": {},
   "outputs": [
    {
     "data": {
      "text/plain": [
       "b'\\xff\\xd8\\xff\\xe0\\x00\\x10JFIF\\x00\\x01\\x01\\x00\\x00\\x01\\x00\\x01\\x00\\x00\\xff\\xed\\x00\\x9cPhotoshop 3.0\\x008BIM\\x04\\x04\\x00\\x00\\x00\\x00\\x00\\x80\\x1c\\x02g\\x00\\x14Oo_4h-UroqduidscdVKp\\x1c\\x02(\\x00bFBMD0a000a8e010000e00100000e0200001a0200002802000037020000720200008e0200009d020000ac02000017030000\\xff\\xdb\\x00\\x84\\x00\\x05\\x06\\x06\\x0b\\x08\\x0b\\x0b\\x0b\\x0b\\x0b\\r\\x0b\\x0b\\x0b\\r\\x0e\\x0e\\r\\r\\x0e\\x0e\\x0f\\r\\x0e\\x0e\\x0e\\r\\x0f\\x10\\x10\\x10\\x11\\x11\\x10\\x10\\x10\\x10\\x0f\\x13\\x12\\x13\\x0f\\x10\\x11\\x13\\x14\\x14\\x13\\x11\\x13\\x16\\x16\\x16\\x13\\x16\\x15\\x15\\x16\\x19\\x16\\x19\\x16\\x16\\x12\\x01\\x05\\x05\\x05\\n\\x07\\n\\x08\\t\\t\\x08\\x0b\\x08\\n\\x08\\x0b\\n\\n\\t\\t\\n\\n\\x0c\\t\\n\\t\\n\\t\\x0c\\r\\x0b\\n\\x0b\\x0b\\n\\x0b\\r\\x0c\\x0b\\x0b\\x08\\x0b\\x0b\\x0c\\x0c\\x0c\\r\\r\\x0c\\x0c\\r\\n\\x0b\\n\\r\\x0c\\r\\r\\x0c\\x13\\x14\\x13\\x13\\x13\\x9c\\xff\\xc2\\x00\\x11\\x08\\x002\\x002\\x03\\x01\"\\x00\\x02\\x11\\x01\\x03\\x11\\x01\\xff\\xc4\\x00A\\x00\\x00\\x02\\x02\\x03\\x01\\x00\\x00\\x00\\x00\\x00\\x00\\x00\\x00\\x00\\x00\\x00\\x00\\x07\\x01\\x02\\x03\\x04\\x05\\x06\\x10\\x01\\x00\\x00\\x04\\x04\\x05\\x04\\x03\\x00\\x00\\x00\\x00\\x00\\x00\\x00\\x00\\x01\\x00\\x10\\x11 \\x02!1A\\x03Qaq\\x910@\\x81\\xb1\\xa1\\xd1\\xf0\\xff\\xda\\x00\\x0c\\x03\\x01\\x00\\x02\\x00\\x03\\x00\\x00\\x00\\x01b\\x05\\xad\\\\\\xd6\\xeb\\x91>x\\xd9\\xd6\\x98\\x17lE\\xd812\\xe2\\x03\\xd0\\x98\\xb2V\\xdc\\xbd;\\xd2\\xd5\\x17lE\\xd81-\\xb1\\xd4\\x89\\xc7\\x9aH\\x9e\\x16?A\\xcf\\x98\\xe7\\xae\\xd8\\x8b\\xb9\\x86\\xee\\xc2h\\xad\\x9c\\xa2h\\x07(\\x9a\\x01\\x88\\xbb\\x0bW\\xff\\xda\\x00\\x08\\x01\\x01\\x00\\x01\\x05\\x02\\x96\\x1e\\x1a\\xc6.\\x1aZO\\x89\\xac\\xf0\\xeb..\\xb6`jB\\xd6\\xdc\\x18h0\\xe1\\xa4\\xf0`\\xac\\x05,\\xc7\\xc3\\x97\\x0fK\\xbf\\xff\\xda\\x00\\x08\\x01\\x03\\x00\\x01?\\x01\\xf6\\x1f\\xff\\xda\\x00\\x08\\x01\\x02\\x00\\x01?\\x01\\x8a\\xfa5\\xbb\\xff\\xda\\x00\\x08\\x01\\x01\\x00\\x06?\\x02\\xf5\\xcfs\\x97\\xa3\\xff\\xda\\x00\\x08\\x01\\x01\\x00\\x01?!\\x96c\\xa1\\x1dR\\xd1T9\\xb34v\\x1f$\\xcf\\xe1m\\x19\\xf3\\x0bL\\xe2\\xb1y\\xd8\\x15\\xd22\\xa7X\\x15\\x13\\x9c6\\xb9\\xea\\xdd t\\x13J\\xc5\\x1c\\xfc%\\xa3\\xfd\\xbd\\xff\\x00\\xff\\xda\\x00\\x0c\\x03\\x01\\x00\\x02\\x00\\x03\\x00\\x00\\x00\\x10\\xff\\x00_k\\xff\\x00Ok\\xb8\\xc7\\xab\\xcb\\x0c#\\xff\\xda\\x00\\x08\\x01\\x03\\x00\\x01?\\x10\\x8a_IR\\xef\\xff\\xda\\x00\\x08\\x01\\x02\\x00\\x01?\\x10\\xb8IdH\\xd9\\xff\\xda\\x00\\x08\\x01\\x01\\x00\\x01?\\x10\\x90\\x14S\\x98\\xef\\xd8\\x80je\\xde\\x83S\\xe2\\xde\\x9c\\x07\\x96\\x02\\x85\\r\\t\\r\\x06\\xe0\\xfc\\xb6\\x12O\\'\\xf7\\x99\\x80]\\xd1_\\xabGp2\\xee \\x82\\xb4\\n\\xbf\\x11\\xd5\\xd7\\xe3k\\x1d\\xd0+\\xc8\\x86\\xdc\\n\\xbd+\\x1d\\x18\\'\\x98J\\x86\\x9dv{3l\\xe5\\x0f\\x97\\xb4\\x1fB>\\xde\\xec\\xc0Q\\x04v`C\\xb5\\x9b\\xfa~\\xa5\\xf7\\xfe\\xd7:\\xc7\\xff\\xd9'"
      ]
     },
     "execution_count": 17,
     "metadata": {},
     "output_type": "execute_result"
    }
   ],
   "source": [
    "r.content"
   ]
  },
  {
   "cell_type": "code",
   "execution_count": 31,
   "id": "414d39cf-11db-4d17-94f1-6c4388fd4ef7",
   "metadata": {},
   "outputs": [],
   "source": [
    "with open('profile7.jpg', 'wb') as file:\n",
    "    file.write(r.content)"
   ]
  },
  {
   "cell_type": "code",
   "execution_count": 33,
   "id": "7d235e1c-6bfd-40b2-b974-f343168f62e3",
   "metadata": {},
   "outputs": [],
   "source": [
    "# Example 2 \n",
    "# Google Maps Geo Coding API\n"
   ]
  },
  {
   "cell_type": "code",
   "execution_count": null,
   "id": "9120b78f-2ad7-4bf5-8d40-90bf25a504d0",
   "metadata": {},
   "outputs": [],
   "source": [
    "# Sometimes key value pairs are needed to be passed into get request"
   ]
  },
  {
   "cell_type": "code",
   "execution_count": 37,
   "id": "1ab7b5dc-1f5d-48ee-8e88-7fc52159bbc5",
   "metadata": {},
   "outputs": [],
   "source": [
    "url = \"https://maps.googleapis.com/maps/api/geocode/json\""
   ]
  },
  {
   "cell_type": "code",
   "execution_count": 43,
   "id": "8473c05b-38c9-40e2-96d8-df2551065d9f",
   "metadata": {},
   "outputs": [],
   "source": [
    "parameters = {\n",
    "    'address': 'coding blocks pitampura'\n",
    "    \n",
    "}"
   ]
  },
  {
   "cell_type": "code",
   "execution_count": 45,
   "id": "ba30e126-6e4d-4ae0-a20e-b0d8fa6f1f2e",
   "metadata": {},
   "outputs": [],
   "source": [
    "p = requests.get(url, params = parameters)"
   ]
  },
  {
   "cell_type": "code",
   "execution_count": 47,
   "id": "1101afae-58bb-4ec4-ac19-c52697c56eb3",
   "metadata": {},
   "outputs": [
    {
     "data": {
      "text/plain": [
       "b'{\\n   \"error_message\" : \"You must use an API key to authenticate each request to Google Maps Platform APIs. For additional information, please refer to http://g.co/dev/maps-no-account\",\\n   \"results\" : [],\\n   \"status\" : \"REQUEST_DENIED\"\\n}'"
      ]
     },
     "execution_count": 47,
     "metadata": {},
     "output_type": "execute_result"
    }
   ],
   "source": [
    "p.content.dedcode('UTF-8')"
   ]
  },
  {
   "cell_type": "code",
   "execution_count": null,
   "id": "32b66710-8982-4cbc-8da2-b04d7d69dd57",
   "metadata": {},
   "outputs": [],
   "source": []
  }
 ],
 "metadata": {
  "kernelspec": {
   "display_name": "Python [conda env:base] *",
   "language": "python",
   "name": "conda-base-py"
  },
  "language_info": {
   "codemirror_mode": {
    "name": "ipython",
    "version": 3
   },
   "file_extension": ".py",
   "mimetype": "text/x-python",
   "name": "python",
   "nbconvert_exporter": "python",
   "pygments_lexer": "ipython3",
   "version": "3.12.7"
  }
 },
 "nbformat": 4,
 "nbformat_minor": 5
}
