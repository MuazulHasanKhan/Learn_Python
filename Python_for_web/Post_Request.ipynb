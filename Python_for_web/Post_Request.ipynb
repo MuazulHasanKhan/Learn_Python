{
 "cells": [
  {
   "cell_type": "code",
   "execution_count": 2,
   "id": "876bed20-b238-4d7e-b9f5-4b1296a15eab",
   "metadata": {},
   "outputs": [
    {
     "data": {
      "text/plain": [
       "'\\nLets say I am filling a form so I need to send the post request. Because if I send a\\nget request username and password would be displayed in the url\\n'"
      ]
     },
     "execution_count": 2,
     "metadata": {},
     "output_type": "execute_result"
    }
   ],
   "source": [
    "'''\n",
    "Lets say I am filling a form so I need to send the post request. Because if I send a\n",
    "get request username and password would be displayed in the url\n",
    "'''"
   ]
  },
  {
   "cell_type": "code",
   "execution_count": 16,
   "id": "52f36056-ffa4-4a2e-8d76-d0a962cabd2a",
   "metadata": {},
   "outputs": [],
   "source": [
    "import requests"
   ]
  },
  {
   "cell_type": "code",
   "execution_count": 18,
   "id": "7078194f-7e4c-4dcd-b974-51916665b583",
   "metadata": {},
   "outputs": [],
   "source": [
    "key = 'gA-xgnLIISYzg2dtj-uaUWnjIrC6E5gY'"
   ]
  },
  {
   "cell_type": "code",
   "execution_count": 20,
   "id": "cf70ba01-4cbd-437d-9ed8-62b7bed42f91",
   "metadata": {},
   "outputs": [],
   "source": [
    "url = \"https://pastebin.com/api/api_post.php\""
   ]
  },
  {
   "cell_type": "code",
   "execution_count": 22,
   "id": "83e723fd-7e2b-4c7a-87ba-d2a23f078f34",
   "metadata": {},
   "outputs": [],
   "source": [
    "data = {\n",
    "    \"api_dev_key\": key,\n",
    "    \"api_option\": \"paste\",\n",
    "    \"api_paste_code\": \"Hello How are you\"\n",
    "}"
   ]
  },
  {
   "cell_type": "code",
   "execution_count": 24,
   "id": "5ef29b1c-f17a-420a-b8f0-702a96db7f97",
   "metadata": {},
   "outputs": [],
   "source": [
    "response = requests.post(url, data = data)"
   ]
  },
  {
   "cell_type": "code",
   "execution_count": 28,
   "id": "82290ecb-8b8e-4009-a013-a30bdf3007b6",
   "metadata": {},
   "outputs": [
    {
     "name": "stdout",
     "output_type": "stream",
     "text": [
      "b'https://pastebin.com/zUmF8zLV'\n"
     ]
    }
   ],
   "source": [
    "print(response.content)"
   ]
  },
  {
   "cell_type": "code",
   "execution_count": 36,
   "id": "6588d309-6335-4690-90b9-c5f35d4b29ae",
   "metadata": {},
   "outputs": [
    {
     "name": "stdout",
     "output_type": "stream",
     "text": [
      "b'https://pastebin.com/M1FYJ2Rx'\n"
     ]
    }
   ],
   "source": [
    "with open('Get_Request.ipynb', 'r') as file:\n",
    "    data = {\n",
    "        \"api_dev_key\": key,\n",
    "        \"api_option\": \"paste\",\n",
    "        \"api_paste_code\": file.read(),\n",
    "        \"api_paste_format\": \"python\"\n",
    "    }\n",
    "    response = requests.post(url, data = data)\n",
    "    print(response.content)"
   ]
  },
  {
   "cell_type": "code",
   "execution_count": 34,
   "id": "55caec53-4230-4b58-b194-ee5c1fc8f9ee",
   "metadata": {},
   "outputs": [
    {
     "name": "stdout",
     "output_type": "stream",
     "text": [
      "b'https://pastebin.com/LcQinLfM'\n"
     ]
    }
   ],
   "source": [
    "print(response.content)"
   ]
  },
  {
   "cell_type": "code",
   "execution_count": null,
   "id": "9d8cd86a-dbe3-466a-b230-6c5c68724b85",
   "metadata": {},
   "outputs": [],
   "source": []
  }
 ],
 "metadata": {
  "kernelspec": {
   "display_name": "Python [conda env:base] *",
   "language": "python",
   "name": "conda-base-py"
  },
  "language_info": {
   "codemirror_mode": {
    "name": "ipython",
    "version": 3
   },
   "file_extension": ".py",
   "mimetype": "text/x-python",
   "name": "python",
   "nbconvert_exporter": "python",
   "pygments_lexer": "ipython3",
   "version": "3.12.7"
  }
 },
 "nbformat": 4,
 "nbformat_minor": 5
}
